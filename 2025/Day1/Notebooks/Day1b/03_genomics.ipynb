{
 "cells": [
  {
   "cell_type": "markdown",
   "metadata": {
    "slideshow": {
     "slide_type": "slide"
    }
   },
   "source": [
    "![ICL](Images/imperiallogo.jpeg)\n",
    "\n",
    "# Introduction to Bayesian methods in ecology and evolution\n",
    "\n",
    "## Monday: 03 - Bayesian applications in genomics"
   ]
  },
  {
   "cell_type": "markdown",
   "metadata": {
    "slideshow": {
     "slide_type": "slide"
    }
   },
   "source": [
    "### Reconstructing genomes from sequencing data\n",
    "\n",
    "You are going to develop and implement a Bayesian approach to reconstruct genomes from data produced from high-throughput sequencing machines. \n",
    "\n",
    "Specifically, you will be doing __genotype calling__ from short-read NGS data."
   ]
  },
  {
   "cell_type": "markdown",
   "metadata": {
    "slideshow": {
     "slide_type": "subslide"
    }
   },
   "source": [
    "<img src=\"Images/NGS.png\" width=\"400\" height=\"400\" />"
   ]
  },
  {
   "cell_type": "markdown",
   "metadata": {
    "slideshow": {
     "slide_type": "slide"
    }
   },
   "source": [
    "Load the *R* functions needed with `source(\"Data/functions.R\")`.\n",
    "\n",
    "Among these functions, we provide one that calculates the likelihood of a certain sequence of bases\n",
    "for diploid individuals.\n",
    "This function is called _calcGenoLikes_ and takes 5 paramaters in input:\n",
    "* the sequence itself (collection of bases)\n",
    "* the first allele of the genotype\n",
    "* the second allele of the genotype\n",
    "* the sequencing error rate\n",
    "* a boolean indicating whether the results should be returned in logarithmic scale (TRUE) or not (FALSE)"
   ]
  },
  {
   "cell_type": "code",
   "execution_count": 1,
   "metadata": {
    "slideshow": {
     "slide_type": "fragment"
    }
   },
   "outputs": [
    {
     "name": "stderr",
     "output_type": "stream",
     "text": [
      "Loading required package: spam\n",
      "Loading required package: dotCall64\n",
      "Loading required package: grid\n",
      "Spam version 2.5-1 (2019-12-12) is loaded.\n",
      "Type 'help( Spam)' or 'demo( spam)' for a short introduction \n",
      "and overview of this package.\n",
      "Help for individual functions is also obtained by adding the\n",
      "suffix '.spam' to the function name, e.g. 'help( chol.spam)'.\n",
      "\n",
      "Attaching package: ‘spam’\n",
      "\n",
      "The following objects are masked from ‘package:base’:\n",
      "\n",
      "    backsolve, forwardsolve\n",
      "\n",
      "Loading required package: maps\n",
      "See https://github.com/NCAR/Fields for\n",
      " an extensive vignette, other supplements and source code \n"
     ]
    }
   ],
   "source": [
    "source(\"Data/functions.R\")"
   ]
  },
  {
   "cell_type": "markdown",
   "metadata": {
    "slideshow": {
     "slide_type": "subslide"
    }
   },
   "source": [
    "For instance, assuming that your sequence is `AATATTA`, your alleles are `A` and `T` (meaning that you want to calculate the likelihood for genotypes `{AA,AT,TT}`, and your sequencing error rate is 0.05, then the likelihood (not in logarithms) for each genotype is given by \n",
    "```calcGenoLikes(\"AATATTA\", \"A\", \"T\", 0.05, FALSE)```"
   ]
  },
  {
   "cell_type": "code",
   "execution_count": 2,
   "metadata": {
    "slideshow": {
     "slide_type": "fragment"
    }
   },
   "outputs": [
    {
     "data": {
      "text/html": [
       "<dl class=dl-horizontal>\n",
       "\t<dt>AA</dt>\n",
       "\t\t<dd>3.77086226851852e-06</dd>\n",
       "\t<dt>AT</dt>\n",
       "\t\t<dd>0.00616207858546239</dd>\n",
       "\t<dt>TT</dt>\n",
       "\t\t<dd>6.61554783950617e-08</dd>\n",
       "</dl>\n"
      ],
      "text/latex": [
       "\\begin{description*}\n",
       "\\item[AA] 3.77086226851852e-06\n",
       "\\item[AT] 0.00616207858546239\n",
       "\\item[TT] 6.61554783950617e-08\n",
       "\\end{description*}\n"
      ],
      "text/markdown": [
       "AA\n",
       ":   3.77086226851852e-06AT\n",
       ":   0.00616207858546239TT\n",
       ":   6.61554783950617e-08\n",
       "\n"
      ],
      "text/plain": [
       "          AA           AT           TT \n",
       "3.770862e-06 6.162079e-03 6.615548e-08 "
      ]
     },
     "metadata": {},
     "output_type": "display_data"
    }
   ],
   "source": [
    "calcGenoLikes(\"AATATTA\", \"A\", \"T\", 0.05, FALSE)"
   ]
  },
  {
   "cell_type": "markdown",
   "metadata": {
    "slideshow": {
     "slide_type": "slide"
    }
   },
   "source": [
    "Complete all the following tasks using *R* when necessary.\n",
    "The key point of these exercises is to not recalculate quantities that you have already computed.\n",
    "The aim is that you should be able to understand whether the likelihood or the prior is the same (or not)\n",
    "between different scenarios."
   ]
  },
  {
   "cell_type": "markdown",
   "metadata": {
    "slideshow": {
     "slide_type": "slide"
    }
   },
   "source": [
    "___A)___ \n",
    "\n",
    "Using Bayes' theorem, write the formula for the posterior probability of genotype G being\n",
    "AA given the sequencing data D.\n",
    "Write the explicit denominator assuming that your alleles are A and T and all possible genotypes are only AA, AT, TT."
   ]
  },
  {
   "cell_type": "code",
   "execution_count": null,
   "metadata": {
    "slideshow": {
     "slide_type": "subslide"
    }
   },
   "outputs": [],
   "source": [
    "# P(G=AA|D) = P(D|G=AA) * P(G=AA) / P(D) #\n",
    "# P(D) = sum_g={AA, AT, TT}  P(D|G=g) * P(G=g)"
   ]
  },
  {
   "cell_type": "markdown",
   "metadata": {
    "slideshow": {
     "slide_type": "slide"
    }
   },
   "source": [
    "___B)___ \n",
    "\n",
    "Assuming that your data is `AAAT`, your alleles are A and T, and the sequencing error rate is 0.01,\n",
    "calculate genotype posterior probability using a uniform prior, e.g. $P(G=AA) = P(G=AT) = P(G=TT) = ?$"
   ]
  },
  {
   "cell_type": "code",
   "execution_count": null,
   "metadata": {
    "slideshow": {
     "slide_type": "subslide"
    }
   },
   "outputs": [],
   "source": [
    "#..."
   ]
  },
  {
   "cell_type": "markdown",
   "metadata": {
    "slideshow": {
     "slide_type": "slide"
    }
   },
   "source": [
    "___C)___ \n",
    "\n",
    "With the same assumptions as in point B, calculate genotype posterior probabilities using prior probabilitties based on [Hardy Weinberg Equilibrium](https://en.wikipedia.org/wiki/Hardy–Weinberg_principle) with a frequency of T of 0.1. Do you need to calculate a new likelihood or is it the same one as in point B?"
   ]
  },
  {
   "cell_type": "code",
   "execution_count": null,
   "metadata": {
    "slideshow": {
     "slide_type": "subslide"
    }
   },
   "outputs": [],
   "source": [
    "#..."
   ]
  },
  {
   "cell_type": "markdown",
   "metadata": {
    "slideshow": {
     "slide_type": "slide"
    }
   },
   "source": [
    "___D)___  \n",
    "\n",
    "With the same assumptions as in point C, calculate genotype posterior probabilities using a prior based on Hardy Weinberg Equilibrium with a frequency of T of 0.1 and an [inbreeding coefficient](https://en.wikipedia.org/wiki/Inbreeding) of 0.2.\n",
    "In this case, we need to modify our previous priors.\n",
    "Specifically, if $f$ is the frequency of allele A and $I$ is the inbreeding coefficient,\n",
    "then the prior probabilities for all genotypes are:\n",
    "* $p(AA)=f^2 + I \\times f \\times (1-f)$\n",
    "* $p(AT)=2 \\times f \\times (1-f) \\times (1-I)$\n",
    "* $p(TT)=(1-f)^2 + I \\times f \\times (1-f)$\n",
    "\n",
    "Do you need to calculate a new likelihood or is it the same one as in points B and C?"
   ]
  },
  {
   "cell_type": "code",
   "execution_count": null,
   "metadata": {
    "slideshow": {
     "slide_type": "subslide"
    }
   },
   "outputs": [],
   "source": [
    "#..."
   ]
  },
  {
   "cell_type": "markdown",
   "metadata": {
    "slideshow": {
     "slide_type": "slide"
    }
   },
   "source": [
    "___E)___ \n",
    "\n",
    "With the same priors used in point D but with a sequencing error rate of 0.05, calculate the genotype posterior probabilities. Do you need to calculate a new likelihood or is it the same one as in point D?\n"
   ]
  },
  {
   "cell_type": "code",
   "execution_count": null,
   "metadata": {
    "slideshow": {
     "slide_type": "subslide"
    }
   },
   "outputs": [],
   "source": [
    "#..."
   ]
  },
  {
   "cell_type": "markdown",
   "metadata": {
    "slideshow": {
     "slide_type": "slide"
    }
   },
   "source": [
    "___F)___ \n",
    "\n",
    "Plot all previous results (e.g. use a barplot with the 3 posterior probabilities for each scenario B-E)."
   ]
  },
  {
   "cell_type": "code",
   "execution_count": null,
   "metadata": {
    "slideshow": {
     "slide_type": "subslide"
    }
   },
   "outputs": [],
   "source": [
    "#..."
   ]
  },
  {
   "cell_type": "markdown",
   "metadata": {
    "slideshow": {
     "slide_type": "slide"
    }
   },
   "source": [
    "___G___) \n",
    "\n",
    "Assuming that our collection of sequenced bases is `AAATATAAAAAAATTTTAAATTA`, calculate the genotype posterior probabilities using the same priors as in point C and sequencing error rate of 0.05. What happens if we have more data? What is the __confidence__ in our genotype inference?"
   ]
  },
  {
   "cell_type": "code",
   "execution_count": null,
   "metadata": {
    "slideshow": {
     "slide_type": "subslide"
    }
   },
   "outputs": [],
   "source": [
    "#..."
   ]
  },
  {
   "cell_type": "markdown",
   "metadata": {
    "slideshow": {
     "slide_type": "slide"
    }
   },
   "source": [
    "___H)___ \n",
    "\n",
    "What happens if we have a lot  of data? Assume that your sequenced bases are\n",
    "`bases <- paste(c(rep(\"A\",1e3),rep(\"T\",1e3)), sep=\"\", collapse=\"\")`.\n",
    "Calculate the genotype likelihoods for this data.\n",
    "What is happening here?\n",
    "\n",
    "It is convenient to use numbers in log-scale and you can do that by selecting TRUE as the last parameter in the _calcGenoLikes_. \n",
    "Remember that if you want to calculate proper probabilities (in log) you have to [approximate](https://en.wikipedia.org/wiki/List_of_logarithmic_identities) the sum of logs.\n",
    "\n",
    "Without calculating posterior probabilities, what is the effect of the prior here in your opinion?"
   ]
  },
  {
   "cell_type": "code",
   "execution_count": null,
   "metadata": {
    "slideshow": {
     "slide_type": "subslide"
    }
   },
   "outputs": [],
   "source": [
    "#..."
   ]
  }
 ],
 "metadata": {
  "celltoolbar": "Slideshow",
  "kernelspec": {
   "display_name": "R",
   "language": "R",
   "name": "ir"
  },
  "language_info": {
   "codemirror_mode": "r",
   "file_extension": ".r",
   "mimetype": "text/x-r-source",
   "name": "R",
   "pygments_lexer": "r",
   "version": "3.6.3"
  }
 },
 "nbformat": 4,
 "nbformat_minor": 2
}

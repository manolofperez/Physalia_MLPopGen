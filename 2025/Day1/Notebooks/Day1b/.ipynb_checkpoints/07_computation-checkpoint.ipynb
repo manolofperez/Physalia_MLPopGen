{
 "cells": [
  {
   "cell_type": "markdown",
   "metadata": {
    "slideshow": {
     "slide_type": "slide"
    }
   },
   "source": [
    "![ICL](Images/imperiallogo.jpeg)\n",
    "\n",
    "# Introduction to bayesian methods in ecology and evolution\n",
    "\n",
    "\n",
    "## Wednesday: 07 - Bayesian computation"
   ]
  },
  {
   "cell_type": "markdown",
   "metadata": {
    "slideshow": {
     "slide_type": "slide"
    }
   },
   "source": [
    "### Intended Learning Outcomes\n",
    "\n",
    "At the end of this part you will be able to:\n",
    "* describe the use of asymptotic methods,\n",
    "* illustrate the utility of direct and indirect sampling methods,\n",
    "* evaluate the feasibility of Markov Chain Monte Carlo sampling,\n",
    "* implement simple indirect sampling methods."
   ]
  },
  {
   "cell_type": "markdown",
   "metadata": {
    "slideshow": {
     "slide_type": "slide"
    }
   },
   "source": [
    "The calculation of posterior distributions often involves the evaluation of complex high-dimensional integrals.\n",
    "This is true when a conjugate prior is not available or appropriate.\n",
    "\n",
    "Ways of addressing this issue are through\n",
    "* asymptotic methods for approximating the posterior density\n",
    "* numerical integration."
   ]
  },
  {
   "cell_type": "markdown",
   "metadata": {
    "slideshow": {
     "slide_type": "slide"
    }
   },
   "source": [
    "### Asymptotic methods\n",
    "\n",
    "When there are many data points, the likelihood will be peaked and the posterior distribution will not be affected by the prior much.\n",
    "\n",
    "Therefore, small changes in the prior will have little effect on the posterior and the likelihood will be concentrated in a small region."
   ]
  },
  {
   "cell_type": "code",
   "execution_count": null,
   "metadata": {
    "slideshow": {
     "slide_type": "slide"
    }
   },
   "outputs": [],
   "source": [
    "# Beta-Binomial model of population allele frequencies\n",
    "p <- seq(0, 1, 0.001)\n",
    "\n",
    "# 1000 chromosomes (200 G alleles)\n",
    "k <- 200\n",
    "n <- 1000\n",
    "alpha <- k+1\n",
    "beta <- n-k+1\n",
    "plot(x=p, y=dbeta(p, shape1=alpha, shape2=beta), ylab=\"Posterior density\" , xlab=\"Population frequency of G\", type=\"l\")\n",
    "\n",
    "# 100 chromosomes (20 G alleles)\n",
    "k <- 20\n",
    "n <- 100\n",
    "alpha <- k+1\n",
    "beta <- n-k+1\n",
    "points(x=p, y=dbeta(p, shape1=alpha, shape2=beta), type=\"l\", lty=2)\n",
    "\n",
    "# 10 chromosomes (2 G alleles)\n",
    "k <- 2\n",
    "n <- 10\n",
    "alpha <- k+1\n",
    "beta <- n-k+1\n",
    "points(x=p, y=dbeta(p, shape1=alpha, shape2=beta), type=\"l\", lty=3)\n",
    "\n",
    "legend(\"topright\", legend=c(1e3,1e2,1e1), lty=1:3)"
   ]
  },
  {
   "cell_type": "markdown",
   "metadata": {
    "slideshow": {
     "slide_type": "slide"
    }
   },
   "source": [
    "When many data points are available, $P(\\theta|y)$ will be approximately distributed as a Normal distribution.\n",
    "This is given by the _Bayesian Central Limit Theorem_.\n",
    "\n",
    "For large data points $n$ the posterior can be approximated by a Normal distribution with mean equal to the posterior mode and (co)variance (matrix) equal to minus the inverse of the second derivative matrix of the log posterior evaluated at the mode."
   ]
  },
  {
   "cell_type": "markdown",
   "metadata": {
    "slideshow": {
     "slide_type": "slide"
    }
   },
   "source": [
    "The Normal approximation follows the procedure:\n",
    "* take the log\n",
    "* take the derivative of $l(\\theta)$ and set it to zero\n",
    "* take the second derivative evaluated at $\\hat{\\theta}$\n",
    "* take the minus inverse\n",
    "\n",
    "In the Beta-Binomial model for population allele frequencies with flat Beta prior, $P(\\theta|x) \\propto \\theta^x(1-\\theta)^{n-x}$.\n",
    "Remember that the derivative of $log(x)$ is $1/x$ and that the derivative of $log(1-x)$ is $1/(x-1)$."
   ]
  },
  {
   "cell_type": "markdown",
   "metadata": {
    "slideshow": {
     "slide_type": "subslide"
    }
   },
   "source": [
    "* take the log: $l(\\theta)=x\\log\\theta+(n-x)\\log(1-\\theta)$,\n",
    "* take the derivative of $l(\\theta)$ and set it to zero, obtaining $\\hat{\\theta}=\\frac{x}{n}$,\n",
    "* take the second derivative evaluated at $\\hat{\\theta}$, $-\\frac{n}{\\hat{\\theta}}-\\frac{n}{1-\\hat{\\theta}}$,\n",
    "* take the minus inverse, $\\frac{\\hat{\\theta}(1-\\hat{\\theta})}{n}$,\n",
    "* $P(\\theta|x) \\sim N(\\hat{\\theta}, \\frac{\\hat{\\theta}(1-\\hat{\\theta})}{n})$.\n"
   ]
  },
  {
   "cell_type": "code",
   "execution_count": null,
   "metadata": {
    "slideshow": {
     "slide_type": "slide"
    }
   },
   "outputs": [],
   "source": [
    "# Beta-Binomial model of population allele frequencies\n",
    "p <- seq(0, 1, 0.001)\n",
    "\n",
    "# 100 chromosomes (20 G alleles)  \n",
    "k <- 20\n",
    "n <- 100\n",
    "\n",
    "# exact posterior with flat prior\n",
    "alpha <- k+1\n",
    "beta <- n-k+1\n",
    "plot(x=p, y=dbeta(p, shape1=alpha, shape2=beta), ylab=\"Density\", xlab=\"Population frequency\", type=\"l\")\n",
    "\n",
    "# Normal approximation\n",
    "thetaHat <- k/n\n",
    "var <- thetaHat*(1-thetaHat)/n\n",
    "points(x=p, y=dnorm(p, mean=thetaHat, sd=sqrt(var)), type=\"l\", lty=2)\n",
    "\n",
    "legend(\"topright\", c(\"exact\",\"approx\"), lty=1:2)"
   ]
  },
  {
   "cell_type": "markdown",
   "metadata": {
    "slideshow": {
     "slide_type": "notes"
    }
   },
   "source": [
    "You can see how the modes are very similar but the approximated curve fails to capture the asymmetry of the tails.\n",
    "\n",
    "If the prior is flat, then we can replace the posterior mean by the MLE.\n",
    "Alternatively, we can replace the posterior mode by the posterior mean.\n",
    "These approximations are called _model approximations_ or _first order approximations_ as they estimate $\\theta$ by the mode and the error goes to $0$ at a rate proportional to $1/n$.\n",
    "\n",
    "Estimates of posterior moments and quantiles can be obtained simply as the corresponding features of the approximated Normal density.\n",
    "However, the estimates of moments and quantiles may be poor if the posterior differs from normality.\n",
    "_Laplace's Method_ provides a second order approximation to the posterior mean, with an error that decreases at a rate $1/n^2$."
   ]
  },
  {
   "cell_type": "code",
   "execution_count": null,
   "metadata": {
    "slideshow": {
     "slide_type": "subslide"
    }
   },
   "outputs": [],
   "source": [
    "options(signif=2)\n",
    "\n",
    "# data\n",
    "k <- 20\n",
    "n <- 100\n",
    "\n",
    "# exact posterior with flat prior\n",
    "alpha <- k+1\n",
    "beta <- n-k+1\n",
    "exact <- rbeta(1e5, shape1=alpha, shape2=beta)\n",
    "signif(quantile(exact),3)\n",
    "\n",
    "# Normal approximation\n",
    "thetaHat <- k/n\n",
    "var <- thetaHat*(1-thetaHat)/n\n",
    "approx <- rnorm(1e5, mean=thetaHat, sd=sqrt(var))\n",
    "signif(quantile(approx),3)"
   ]
  },
  {
   "cell_type": "markdown",
   "metadata": {
    "slideshow": {
     "slide_type": "slide"
    }
   },
   "source": [
    "The advantages of asymptotic methods are:\n",
    "* they replace numerical integration with numerical differentiation,\n",
    "* they are deterministic (without elements of stochasticity),\n",
    "* they reduce the computational complexity for any study of robustness (how sensitive are our conclusions to changes in the prior/likelihood?)."
   ]
  },
  {
   "cell_type": "markdown",
   "metadata": {
    "slideshow": {
     "slide_type": "slide"
    }
   },
   "source": [
    "Asymptotic methods have also disadvantages:"
   ]
  },
  {
   "cell_type": "markdown",
   "metadata": {
    "slideshow": {
     "slide_type": "fragment"
    }
   },
   "source": [
    "* they require that the posterior is unimodal,\n",
    "* they require that the size of the data is large (how large is \"large enough\"?),\n",
    "* for high-dimensional parameters the calculation of Hessian matrices (second derivatives) is hard."
   ]
  },
  {
   "cell_type": "markdown",
   "metadata": {
    "slideshow": {
     "slide_type": "slide"
    }
   },
   "source": [
    "### Non-iterative Monte Carlo methods\n",
    "\n",
    "Direct sampling of the posterior density can be done using a Monte Carlo integration.\n",
    "\n",
    "Suppose that ${\\theta} \\sim h({\\theta})$ with $h({\\theta})$ being a posterior distribution.\n",
    "\n",
    "We wish to estimate $\\gamma$, the posterior mean of $c({\\theta})$, with $\\gamma \\equiv \\mathrm{E}[c({\\theta})]$."
   ]
  },
  {
   "cell_type": "markdown",
   "metadata": {
    "slideshow": {
     "slide_type": "notes"
    }
   },
   "source": [
    "Note that $\\mathrm{E}[c({\\theta})] = \\int c({\\theta}) h({\\theta}) d{\\theta}$."
   ]
  },
  {
   "cell_type": "markdown",
   "metadata": {
    "slideshow": {
     "slide_type": "subslide"
    }
   },
   "source": [
    "If ${\\theta}_1, {\\theta}_2, ..., {\\theta}_N$ are independent and identically distributed (iid) as $h({\\theta})$, then\n",
    "\\begin{equation}\n",
    "    \\hat{\\gamma}=\\frac{1}{N}\\sum_{i=1}^N c(\\theta_i)\n",
    "\\end{equation}\n",
    "which converges to $\\mathrm{E}[c({\\theta})]$ with probability 1 as $N \\rightarrow \\infty$.\n",
    "\n",
    "The computation of posterior expectations requires only a sample of size $N$ from the posterior distribution."
   ]
  },
  {
   "cell_type": "markdown",
   "metadata": {
    "slideshow": {
     "slide_type": "notes"
    }
   },
   "source": [
    "In contrast to asymptotic methods, accuracy improves with $N$ the Monte Carlo sample size (which we can choose and have control upon) rather than $n$ the size of the data set (which can may not be able to control).\n",
    "\n",
    "With higher dimensionality of ${\\theta}$, more samples are needed but the structure remains the same."
   ]
  },
  {
   "cell_type": "markdown",
   "metadata": {
    "slideshow": {
     "slide_type": "slide"
    }
   },
   "source": [
    "The variance of $\\hat{\\gamma}$ can be estimated from the sample variance of the $c({\\theta}_i)$ values.\n",
    "\n",
    "The standard error estimate for $\\hat{\\gamma}$ is\n",
    "\\begin{equation}\n",
    "    \\hat{se}(\\hat{\\gamma}) = \\sqrt[]{ \\frac{1}{N(N-1)} \\sum_{i=1}^N [c({\\theta_i})-\\hat{\\gamma}]^2 }\n",
    "\\end{equation}\n",
    "\n",
    "The Central Limit Theorem implies that $\\hat{\\gamma} \\pm 2 \\hat{se}(\\hat{\\gamma})$ provides the approximated $95\\%$ confidence interval.\n",
    "$N$ can be chosen as large as necessary to provide a desirable confidence interval."
   ]
  },
  {
   "cell_type": "markdown",
   "metadata": {
    "slideshow": {
     "slide_type": "slide"
    }
   },
   "source": [
    "In the univariate case, a histogram of the sampled $\\theta_i$ estimates the posterior itself, as the probability of each bin converges to the true bin probability.\n",
    "\n",
    "In fact, an estimate of $p \\equiv P\\{a<c(\\theta)<b\\}$ is given by\n",
    "\\begin{equation}\n",
    "    \\hat{p} = \\frac{\\text{number of } c(\\theta_i) \\in (a,b)}{N}\n",
    "\\end{equation}"
   ]
  },
  {
   "cell_type": "markdown",
   "metadata": {
    "slideshow": {
     "slide_type": "notes"
    }
   },
   "source": [
    "We can use a kernel density function to smooth the histogram, using a Normal or rectangular distribution.\n",
    "Given a sample from the posterior distribution, almost any quantity can be estimated."
   ]
  },
  {
   "cell_type": "markdown",
   "metadata": {
    "slideshow": {
     "slide_type": "slide"
    }
   },
   "source": [
    "What happens if we can't directly sample from this distribution?"
   ]
  },
  {
   "cell_type": "markdown",
   "metadata": {
    "slideshow": {
     "slide_type": "fragment"
    }
   },
   "source": [
    "There are methods for _indirect_ sampling of the posterior distribution.\n",
    "The most commonly used ones are\n",
    "1. importance sampling\n",
    "2. rejection sampling\n",
    "3. weighted bootstrap."
   ]
  },
  {
   "cell_type": "markdown",
   "metadata": {
    "slideshow": {
     "slide_type": "subslide"
    }
   },
   "source": [
    "In the importance sampling, an importance function is derived to approximate the Normalised likelihood times the prior, and a weight function is then used for sampling.\n",
    "\n",
    "In the weighted bootstrap, instead of resampling from the set $\\{\\theta_1,...,\\theta_N\\}$ with equal probabilities, some points are sampled more often than others because of unequal weighting."
   ]
  },
  {
   "cell_type": "markdown",
   "metadata": {
    "slideshow": {
     "slide_type": "slide"
    }
   },
   "source": [
    "In __rejection sampling__ a smooth density, called the _envelope function_ , is used to \"cover\" rather than approximate the posterior distribution.\n",
    "\n",
    "Suppose we can identify an _envelope function_ $g({\\theta})$ and a constant $M>0$ such that $L({\\theta})\\pi({\\theta})<Mg({\\theta})$ for all ${\\theta}$.\n",
    "Then the algorithm, in the univariate case, is the following:\n",
    "* generate $\\theta_i \\sim g(\\theta)$,\n",
    "* generate $U \\sim Uniform(0,1)$,\n",
    "* if $MUg(\\theta_i)<L(\\theta_i)\\pi(\\theta_i)$ accept $\\theta_i$ otherwise reject $\\theta_i$,\n",
    "* repeat this procedure until $N$ samples are obtained.\n",
    "\n",
    "The members of this sample will be random variables from $h(\\theta)$."
   ]
  },
  {
   "cell_type": "markdown",
   "metadata": {
    "slideshow": {
     "slide_type": "subslide"
    }
   },
   "source": [
    "The intuition for the rejection sampling algorithm is that it is typically hard to sample from the true posterior but it is much easier to sample from the envelope function.\n",
    "\n",
    "![](Images/Rejection.png)"
   ]
  },
  {
   "cell_type": "markdown",
   "metadata": {
    "slideshow": {
     "slide_type": "slide"
    }
   },
   "source": [
    "__ACTIVITY__ \n",
    "\n",
    "Implement a rejection algorithm to approximate an unknown posterior distribution using a uniform envelope function.\n",
    "From `Data/functions.R` load the function `L_times_pi()` which returns $L(.)\\pi(.)$ with $\\theta=[0,1]$.\n",
    "\n",
    "Assess the accuracy of your approximation assuming that the true posterior is a Beta distribution $B(3,10)$.\n",
    "\n",
    "_What happens if you change $M$ to very low or very high values?_"
   ]
  },
  {
   "cell_type": "code",
   "execution_count": null,
   "metadata": {
    "slideshow": {
     "slide_type": "subslide"
    }
   },
   "outputs": [],
   "source": [
    "source(\"Data/functions.R\")\n",
    "# function `L_times_pi(x)` will return L(x)*pi(x)\n",
    "\n",
    "# parameter space\n",
    "theta <- seq(0,1,0.01)\n",
    "\n",
    "# g is a uniform envelope function\n",
    "\n",
    "# M is a constant value\n",
    "M <- 25000\n",
    "\n",
    "# initialise vector that contains accepted values\n",
    "thetas <- c()\n",
    "\n",
    "# we want N samples\n",
    "N <- 1e4\n",
    "\n",
    "#while (length(thetas) < N) {\n",
    "\n",
    "    # ...\n",
    "    \n",
    "    # ...\n",
    "\n",
    "    # if \n",
    "\n",
    "#}\n",
    "\n",
    "# plot"
   ]
  },
  {
   "cell_type": "code",
   "execution_count": null,
   "metadata": {},
   "outputs": [],
   "source": [
    "## check approximation with a qq-plot\n",
    "truePosterior <- rbeta(N, 3, 10)\n",
    "#qqplot(...)\n",
    "#abline(...)"
   ]
  },
  {
   "cell_type": "markdown",
   "metadata": {
    "slideshow": {
     "slide_type": "slide"
    }
   },
   "source": [
    "### Markov chain Monte Carlo methods\n",
    "\n",
    "* All previous methods are non-iterative as they draw a sample of fixed size $N$. There is no notion of \"convergence\" in these methods but rather we require $N$ to be sufficiently large.\n",
    "\n",
    "* For many problems with high dimensionality it may be difficult to find an importance sampling density that, for instance, is acceptable to approximate the (log) posterior distribution.\n",
    "\n",
    "_Markov chain Monte Carlo_ (MCMC) methods sequentially sample parameter values from a Markov chain whose stationary distribution is the desired posterior distribution."
   ]
  },
  {
   "cell_type": "markdown",
   "metadata": {
    "slideshow": {
     "slide_type": "slide"
    }
   },
   "source": [
    "A __Markov process__ is a mathematical object following a stochastic (random) process, usually defined as a collection of random variables.\n",
    "\n",
    "A Markov process has the property that __the next value of the process depends only on the current value__, and it is independent from the previous ones. The future value will depend only on the current state.\n",
    "\n",
    "A Markov chain is a Markov process that has a particular type of state space, which dictates the possible values that a stochastic process can take."
   ]
  },
  {
   "cell_type": "markdown",
   "metadata": {
    "slideshow": {
     "slide_type": "subslide"
    }
   },
   "source": [
    "<img src=\"Images/Markov.png\" width=\"300\" height=\"300\" />\n",
    "\n",
    "A two-state Markov process, with the states E and A. Each number represents the probability of the Markov process changing from one state to another one, with the direction given by the arrow."
   ]
  },
  {
   "cell_type": "markdown",
   "metadata": {
    "slideshow": {
     "slide_type": "fragment"
    }
   },
   "source": [
    "The _stationary distribution_ is the probability distribution to which the process converges for large values of steps, or iterations."
   ]
  },
  {
   "cell_type": "markdown",
   "metadata": {
    "slideshow": {
     "slide_type": "slide"
    }
   },
   "source": [
    "The great increase of generality of MCMC methods comes at the price of requiring an assessment of _convergence_ of the Markov chain to its stationary distribution.\n",
    "Convergence is usually assessed using plots or numerical summaries of the sampled distribution from the chain.\n",
    "\n",
    "The majority of Bayesian MCMC computation is based on two algorithms:\n",
    "1. _Gibbs sampler_\n",
    "2. _Metropolis-Hastings_ (M-H)\n"
   ]
  },
  {
   "cell_type": "markdown",
   "metadata": {
    "slideshow": {
     "slide_type": "slide"
    }
   },
   "source": [
    "Suppose that our model has $k$ parameters so that $\\vec{\\theta}=(\\theta_1, \\theta_2, ..., \\theta_k)$.\n",
    "We also assume that we can sample from the full conditional distributions.\n",
    "\n",
    "The collection of full conditional distributions uniquely determines the joint posterior distribution $P(\\vec{\\theta},{y})$ and all marginal posterior distributions $P(\\theta_i,{y})$, for $i=1,...,k$."
   ]
  },
  {
   "cell_type": "markdown",
   "metadata": {
    "slideshow": {
     "slide_type": "subslide"
    }
   },
   "source": [
    "Given an arbitrary set of starting values $\\{\\theta_2^{(0)}, ..., \\theta_2^{(k)}\\}$,\n",
    "for $(t=1, ..., T)$, the _Gibbs sampler_ algorithm:\n",
    "* draws $\\theta_1^{(t)}$ from $P(\\theta_1 | \\theta_2^{(t-1)}, \\theta_3^{(t-1)}, ..., \\theta_k^{(t-1)}, y )$\n",
    "* draws $\\theta_2^{(t)}$ from $P(\\theta_2 | \\theta_1^{(t)}, \\theta_3^{(t-1)}, ..., \\theta_k^{(t-1)}, y )$\n",
    "* ...\n",
    "* draws $\\theta_k^{(t)}$ from $P(\\theta_k | \\theta_1^{(t)}, \\theta_2^{(t)}, ..., \\theta_{k-1}^{(t)}, y )$\n",
    "\n",
    "$(\\theta_1^{(t)}, \\theta_2^{(t)}, ..., \\theta_k^{(t)})$ converges to a draw from the true joint posterior distribution $P(\\theta_1, \\theta_2, ..., \\theta_k | y)$."
   ]
  },
  {
   "cell_type": "markdown",
   "metadata": {
    "slideshow": {
     "slide_type": "slide"
    }
   },
   "source": [
    "For sufficiently large $t>t_0$ then $\\{\\theta^{(t)}, t=t_0+1, ..., T\\}$ is a correlated sample from the true posterior distribution.\n",
    "\n",
    "A histogram of $\\{\\theta_i^{(t)}, t=t_0+1, ..., T\\}$ provides an estimate of the marginal posterior distribution for $\\theta_i$.\n",
    "\n",
    "The posterior mean can be estimated as\n",
    "\\begin{equation}\n",
    "    \\hat{\\mathrm{E}}(\\theta_i|y) = \\frac{1}{T-t_0} \\sum_{t=t_0+1}^T \\theta_i^{(t)}\n",
    "\\end{equation}\n",
    "The time $0<=t<=t_0$ is called the _burn-in period_."
   ]
  },
  {
   "cell_type": "markdown",
   "metadata": {
    "slideshow": {
     "slide_type": "notes"
    }
   },
   "source": [
    "If we run $m$ parallele chains (typically $m \\leq 5$), the posterior mean is\n",
    "\\begin{equation}\n",
    "    \\hat{\\mathrm{E}}(\\theta_i|y) = \\frac{1}{m(T-t_0)} \\sum_{j=1}^m \\sum_{t=t_0+1}^T \\theta_{i,j}^{(t)}\n",
    "\\end{equation}"
   ]
  },
  {
   "cell_type": "markdown",
   "metadata": {
    "slideshow": {
     "slide_type": "notes"
    }
   },
   "source": [
    "The entire marginal posterior density of $\\theta_i$ is\n",
    "\\begin{equation}\n",
    "    \\hat{\\mathrm{E}}(\\theta_i|y) \\approx \\frac{1}{m(T-t_0)} \\sum_{j=1}^m \\sum_{t=t_0+1}^T P(\\theta_{i} | \\theta_{l \\neq i,j}^{(t)}, y) \n",
    "\\end{equation}"
   ]
  },
  {
   "cell_type": "markdown",
   "metadata": {
    "slideshow": {
     "slide_type": "slide"
    }
   },
   "source": [
    " * A requirement for convergence is that the parameter space must be fully connected, without \"holes\"."
   ]
  },
  {
   "cell_type": "markdown",
   "metadata": {
    "slideshow": {
     "slide_type": "notes"
    }
   },
   "source": [
    "Imagine a joint posterior distribution for two univariate parameters $\\theta$ and $\\nu$ with two disconnected regions of support.\n",
    "The posterior is either defined for $(\\theta>0 \\text{ and } \\nu>0$ or for $(\\theta<0 \\text{ and } \\nu<0$.\n",
    "If we choose $\\theta^{(0)}>0$ then we will have $\\mu^{(1)}>0$ and subsequentially $\\theta^{(1)}>0$ and so on.\n",
    "The chain will not be able to \"escape\" the first quadrant."
   ]
  },
  {
   "cell_type": "markdown",
   "metadata": {
    "slideshow": {
     "slide_type": "fragment"
    }
   },
   "source": [
    "* When two univariate parameters $\\theta$ and $\\nu$ are highly correlated, the chain will have a \"slow mixing\" and might get trapped in one part of the joint distribution. _Thinning_ retains values only every $m^{th}$ iterations."
   ]
  },
  {
   "cell_type": "markdown",
   "metadata": {
    "slideshow": {
     "slide_type": "notes"
    }
   },
   "source": [
    "If $m$ is large enough, then the samples will be uncorrelated."
   ]
  },
  {
   "cell_type": "markdown",
   "metadata": {
    "slideshow": {
     "slide_type": "fragment"
    }
   },
   "source": [
    "* To ensure that all the full conditional distributions are available, the prior distribution of each parameter should be chosen to be conjugate to the corresponding likelihood."
   ]
  },
  {
   "cell_type": "markdown",
   "metadata": {
    "slideshow": {
     "slide_type": "slide"
    }
   },
   "source": [
    "When the priors and likelihoods are not conjugate pairs, one of more of these conditional probabilities may not be available in closed form (i.e. we have an analytical solution).\n",
    "\n",
    "Nevertheless, the full conditional probabilities will be available up to a proportionality constant."
   ]
  },
  {
   "cell_type": "markdown",
   "metadata": {
    "slideshow": {
     "slide_type": "subslide"
    }
   },
   "source": [
    "The _Metropolis_ algorithm is a rejection algorithm which requires a function proportional to the distribution to be sampled, at the cost of a rejection step from a candidate density function.\n",
    "\n",
    "It generates samples from a joint posterior distribution $h(\\vec{\\theta})$ such as $P(\\vec{\\theta}|y) \\propto h(\\vec{\\theta}) \\equiv f(y|\\vec{\\theta})\\pi(\\vec{\\theta})$.\n"
   ]
  },
  {
   "cell_type": "markdown",
   "metadata": {
    "slideshow": {
     "slide_type": "slide"
    }
   },
   "source": [
    "Given \n",
    "* a _candidate_ , or _proposal_ , symmetric density $q({\\theta}^* | {\\theta}^{(t-1)})$ which satisfies $q({\\theta}^* | {\\theta}^{(t-1)})=q({\\theta}^{(t-1)} | {\\theta}^*)$,\n",
    "* a starting value ${\\theta^{(0)}}$ at iteration $t=0$,"
   ]
  },
  {
   "cell_type": "markdown",
   "metadata": {
    "slideshow": {
     "slide_type": "subslide"
    }
   },
   "source": [
    "for $(t=1,..., T)$ the algorithm repeats:\n",
    "* draw ${\\theta}^* = q( \\cdot | {\\theta}^{(t-1)})$,\n",
    "* calculate $r=h({\\theta}^*)/h({\\theta}^{(t-1)})$,\n",
    "* if $r \\geq 1$, set ${\\theta}^{(t)}={\\theta}^*$, otherwise\n",
    "    * set ${\\theta}^{(t)}={\\theta}^*$ with probability $r$ or\n",
    "    * set ${\\theta}^{(t)}={\\theta}^{(t-1)}$ with probability $1-r$.\n",
    "\n",
    "${\\theta}^{(t)}$ converges in distribution to a draw from the true posterior density $p(\\vec{\\theta}|y)$."
   ]
  },
  {
   "cell_type": "markdown",
   "metadata": {
    "slideshow": {
     "slide_type": "fragment"
    }
   },
   "source": [
    "The Metropolis algorithm is flexible in the selection of the candidate density $q$ but may be less efficient than the Gibbs sampler when not properly tuned."
   ]
  },
  {
   "cell_type": "markdown",
   "metadata": {
    "slideshow": {
     "slide_type": "slide"
    }
   },
   "source": [
    "A typical candidate density is\n",
    "\\begin{equation}\n",
    "    q({\\theta}^*| {\\theta}^{(t-1)}) = N({\\theta}^*|{\\theta}^{(t-1)}, \\tilde{\\Sigma})\n",
    "\\end{equation}\n",
    "\n",
    "This distribution is symmetric and is \"self-correcting\" as candidates are always centered around the current value of the chain ( _random walk Metropolis_ ).\n",
    "\n",
    "The posterior variance is represented by $\\tilde{\\Sigma}$ which can be empirically estimated from a preliminary run."
   ]
  },
  {
   "cell_type": "markdown",
   "metadata": {
    "slideshow": {
     "slide_type": "notes"
    }
   },
   "source": [
    "A skewed $q$ density will increase the acceptance rate but also generate more autocorrelated samples and, therefore. it may explore only a small proportion of the parameter space.\n",
    "A rule of thumb is to choose $\\tilde{\\Sigma}$ so that around $50\\%$ of the candidates are accepted.\n",
    "\n",
    "However, often the choice of $\\tilde{\\Sigma}$ is done _adaptively_. One can keep track of the proportion of accepted candidates and tune $\\tilde{\\Sigma}$ accordingly. This is usually done during the burn-in period and it is called _pilot adaptation_."
   ]
  },
  {
   "cell_type": "markdown",
   "metadata": {
    "slideshow": {
     "slide_type": "slide"
    }
   },
   "source": [
    "In the _Metropolis-Hastings_ algorithm \n",
    "If $q({\\theta}^*|{\\theta}^{(t-1)}) \\neq q({\\theta}^{(t-1)}|{\\theta}^*)$, the _Metropolis-Hastings_ algorithm replaces the acceptance rate $r$ by\n",
    "\\begin{equation}\n",
    "    r = \\frac{ h({\\theta}^*) q({\\theta}^{(t-1)}|{\\theta}^*) }{ h({\\theta}^{(t-1)})  q({\\theta}^*|{\\theta}^{(t-1)})  }\n",
    "\\end{equation}"
   ]
  },
  {
   "cell_type": "markdown",
   "metadata": {
    "slideshow": {
     "slide_type": "fragment"
    }
   },
   "source": [
    "This generalisation of the Metropolis algorithm drops the requirement that the candidate density must be symmetric.\n",
    "For instance, for bounded parameter spaces (e.g. $\\theta>0$) a Gaussian density is not appropriate."
   ]
  },
  {
   "cell_type": "markdown",
   "metadata": {
    "slideshow": {
     "slide_type": "slide"
    }
   },
   "source": [
    "If $q({\\theta}^*|{\\theta}^{(t-1)})=q({\\theta}^*)$, the proposal ignores the current value of the variable.\n",
    "\n",
    "In _Hastings independence chain_ , the acceptance rate is\n",
    "\\begin{equation}\n",
    "    r = \\frac{h({\\theta}^*)/q({\\theta}^*)}{h({\\theta}^{(t-1)})/q({\\theta}^{(t-1)})}\n",
    "\\end{equation}\n",
    "which is the weight function in the importance sampling."
   ]
  },
  {
   "cell_type": "markdown",
   "metadata": {
    "slideshow": {
     "slide_type": "slide"
    }
   },
   "source": [
    "* _Langevin-Hastings_ algorithm introduces a systematic drift in the candidate density.\n",
    "* _Slice sampler_ algorithm uses auxiliary variables to expand the parameter space.\n",
    "* _Hybrid_ forms combined multiple algorithm in a single problem.\n",
    "* _Adaptive_ algorithms use the early output from a chain to refine the sampling as it progresses."
   ]
  },
  {
   "cell_type": "markdown",
   "metadata": {
    "slideshow": {
     "slide_type": "slide"
    }
   },
   "source": [
    "##### Convergence\n",
    "\n",
    "Convergence is an important issue for MCMC algorithms as their output is random and autocorrelated.\n",
    "\n",
    "When the output is safely thought to come from a true stationary distribution of the Markov chain for all $t>T$ then the MCMC algorithm has converged at time $T$."
   ]
  },
  {
   "cell_type": "markdown",
   "metadata": {
    "slideshow": {
     "slide_type": "notes"
    }
   },
   "source": [
    "There are both theoretical basis and diagnostic tools to assess whether the chain has indeed reached convergence."
   ]
  },
  {
   "cell_type": "markdown",
   "metadata": {
    "slideshow": {
     "slide_type": "slide"
    }
   },
   "source": [
    "A diagnostic strategy is to:\n",
    "* run parallel chains with starting points drawn from an overdispersed distribution with respect to the stationary distribution;\n",
    "* visually inspect these chains;\n",
    "<img src=\"Images/Chains.png\" width=\"400\" height=\"400\" />"
   ]
  },
  {
   "cell_type": "markdown",
   "metadata": {
    "slideshow": {
     "slide_type": "subslide"
    }
   },
   "source": [
    "* for each graph calculate the scale reduction factor (to check whether the variation within chains are approximately equal to the total variation);\n",
    "* investigate crosscorrelations among parameters.\n",
    "<img src=\"Images/Chains.png\" width=\"400\" height=\"400\" />"
   ]
  },
  {
   "cell_type": "markdown",
   "metadata": {
    "slideshow": {
     "slide_type": "slide"
    }
   },
   "source": [
    "##### Software\n",
    "\n",
    "There are several software that implement MCMC algorithms for generating samples from posterior distributions.\n",
    "\n",
    "A commonly used program is OpenBUGS, which is the free and open-source version of WinBUGS.\n",
    "The BRugs package in R calls WinBUGS.\n",
    "\n",
    "JAGS and its R interface rjags are also valid alternatives.\n",
    "An example to use rjags can be found [here](https://nbviewer.jupyter.org/github/mhasoba/TheMulQuaBio/blob/master/notebooks/Appendix-ModelFitting.ipynb).\n",
    "\n",
    "In python, [pymc3](https://docs.pymc.io/notebooks/getting_started.html) is a good resource for MCMC sampling."
   ]
  },
  {
   "cell_type": "markdown",
   "metadata": {
    "slideshow": {
     "slide_type": "slide"
    }
   },
   "source": [
    "### Intended Learning Outcomes\n",
    "\n",
    "At the end of this part you are now able to:\n",
    "* describe the use of asymptotic methods,\n",
    "* illustrate the utility of direct and indirect sampling methods,\n",
    "* evaluate the feasibility of Markov Chain Monte Carlo sampling,\n",
    "* implement simple indirect sampling methods."
   ]
  }
 ],
 "metadata": {
  "celltoolbar": "Slideshow",
  "kernelspec": {
   "display_name": "R",
   "language": "R",
   "name": "ir"
  },
  "language_info": {
   "codemirror_mode": "r",
   "file_extension": ".r",
   "mimetype": "text/x-r-source",
   "name": "R",
   "pygments_lexer": "r",
   "version": "3.6.3"
  }
 },
 "nbformat": 4,
 "nbformat_minor": 2
}

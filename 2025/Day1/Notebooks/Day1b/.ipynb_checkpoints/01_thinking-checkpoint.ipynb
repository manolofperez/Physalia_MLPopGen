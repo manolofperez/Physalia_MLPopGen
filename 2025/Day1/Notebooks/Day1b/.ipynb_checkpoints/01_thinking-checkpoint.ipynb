{
 "cells": [
  {
   "cell_type": "markdown",
   "metadata": {
    "slideshow": {
     "slide_type": "slide"
    }
   },
   "source": [
    "![ICL](Images/imperiallogo.jpeg)\n",
    "\n",
    "# Introduction to Bayesian methods in ecology and evolution\n"
   ]
  },
  {
   "cell_type": "markdown",
   "metadata": {
    "slideshow": {
     "slide_type": "slide"
    }
   },
   "source": [
    "### Intended Learning Outcomes\n",
    "\n",
    "At the end of this __module__ you will be able to:\n",
    "* critically discuss advantages (and disadvantages) of Bayesian data analysis,\n",
    "* illustrate Bayes’ Theorem and concepts of prior and posterior distributions,\n",
    "* implement simple Bayesian methods, including sampling and approximated techniques and Bayes networks,\n",
    "* apply Bayesian methods to solve problems in ecology and evolution."
   ]
  },
  {
   "cell_type": "markdown",
   "metadata": {
    "slideshow": {
     "slide_type": "slide"
    }
   },
   "source": [
    "![ICL](Images/imperiallogo.jpeg)\n",
    "\n",
    "# Introduction to Bayesian methods in ecology and evolution\n",
    "\n",
    "https://bitbucket.org/mfumagal/statistical_inference\n",
    "\n",
    "## Monday: 01-Bayesian thinking"
   ]
  },
  {
   "cell_type": "markdown",
   "metadata": {
    "slideshow": {
     "slide_type": "slide"
    }
   },
   "source": [
    "### Intended Learning Outcomes\n",
    "\n",
    "At the end of this part you will be able to:\n",
    "* appreciate the use of Bayesian statistics in life sciences,\n",
    "* formulate and explain Bayes’ theorem,\n",
    "* describe a Normal-Normal model and implement it in R with or without Monte Carlo sampling,\n",
    "* apply Bayesian statistics in genomics."
   ]
  },
  {
   "cell_type": "markdown",
   "metadata": {
    "slideshow": {
     "slide_type": "skip"
    }
   },
   "source": [
    "### the eyes and the brain"
   ]
  },
  {
   "cell_type": "markdown",
   "metadata": {
    "slideshow": {
     "slide_type": "slide"
    }
   },
   "source": [
    "\"You know, guys? I have just seen the Loch Ness monster at Silwood Park! Can you believe that?\"\n",
    "<img src=\"Images/LochNessMonster.jpg\" width=\"300\" height=\"300\" />\n",
    "\n",
    "What does this information tell you about the existence of Nessie?"
   ]
  },
  {
   "cell_type": "markdown",
   "metadata": {
    "slideshow": {
     "slide_type": "skip"
    }
   },
   "source": [
    "In the classic frequentist, or likelihoodist, approach you make some inferences based on all the data that you have observed.\n",
    "The only data that you observe here is me telling you whether or not I saw Nessie.\n",
    "In other words, your inference on whether Nessie exists (at Silwood!) or not will be solely based on such observations."
   ]
  },
  {
   "cell_type": "markdown",
   "metadata": {
    "slideshow": {
     "slide_type": "slide"
    }
   },
   "source": [
    "__ACTIVITY__ \n",
    "\n",
    "Let's denote $D$ (data) as the set of observations specifying whether I saw Nessie ($D=1$) or not ($D=0$).\n",
    "$D$ is our sample space, the set of all possible outcomes of the experiment, and $D = \\{0,1\\}$.\n",
    "We want to make some inferences on the probability that Nessie exists.\n",
    "Let's denote this random variable as $N$ and assume for simplicity that it can take only values $0$ and $1$."
   ]
  },
  {
   "cell_type": "markdown",
   "metadata": {
    "slideshow": {
     "slide_type": "subslide"
    }
   },
   "source": [
    "We can define a likelihood function for $P(D|N)$.\n",
    "\n",
    "For instance, we could set $p(D=1|N=0)=0.05$ (what are the chances that I did not see Nessie, so it doesn't exist, but I tell I saw it?) and $p(D=1|N=1)=0.99$ (what are the chances that I did see Nessie and tell you I saw it so it exists?). \n",
    "Likewise, let's assume that $p(D=0|N=0)=0.95$ and $p(D=0|N=1)=0.01$."
   ]
  },
  {
   "cell_type": "markdown",
   "metadata": {
    "slideshow": {
     "slide_type": "fragment"
    }
   },
   "source": [
    "Let's make it slightly more complicated and imagine that even the second lecturer didn't tell you that she/he saw Nessie and the third lecturer told you that she/he saw Nessie.\n",
    "Let's assume that the likelihood function is the same for each observer/lecturer $l$."
   ]
  },
  {
   "cell_type": "markdown",
   "metadata": {
    "slideshow": {
     "slide_type": "subslide"
    }
   },
   "source": [
    "The likelihood function is defined by these conditional probabilities:\n",
    "\n",
    "| N    | D=0     | D=1      | \n",
    "| ---    | ---     | ---      |\n",
    "| N=0    | 0.95    | 0.05     |\n",
    "| N=1    | 0.01   | 0.99     |\n",
    "\n",
    "and observations are D=[1,0,1].\n",
    "\n",
    "_What is the log-likelihood distribution of $N$? What is the Maximum Likelihood Estimate (MLE) of $N$? What is the likelihood ratio in favour of the hypothesis of Nessie existing?_"
   ]
  },
  {
   "cell_type": "markdown",
   "metadata": {
    "slideshow": {
     "slide_type": "notes"
    }
   },
   "source": [
    "In this very trivial example we maximise the likelihood function for $N$ and obtain $N_{MLE}=1$.\n",
    "The difference in likelihood between $N=1$ and $N=0$ gives us some sort of confidence level.\n",
    "The more data we have pointing towards one \"direction\", the more confident we are of our inferences.\n",
    "\n",
    "Recalling our previous example, with 3 observations of $D=1$ we would obtain a likelihood ratio (LR) of $8.96$.\n",
    "With 100 observations of $D=1$ we would obtain a LR of $\\approx 300$.\n",
    "On the other hand, with only 1 observation, the LR would be $<3$.\n",
    "\n",
    "We can appreciate how our inference on $N$ is driven solely by our observations, and our inference is taken by the likelihood distribution.\n",
    "In a very informal (and possibly wrong) notation, we can write $p(N|D) \\propto p(D|N)$, where we stress the conditional of $N$ on the observed data $D$.\n",
    "\n",
    "An analogy here can explain this concept further."
   ]
  },
  {
   "cell_type": "markdown",
   "metadata": {
    "slideshow": {
     "slide_type": "slide"
    }
   },
   "source": [
    "Imagine that in the likelihood approach we use only one visual (or auditive) organ,\n",
    "i.e. our eyes (or ears).\n",
    "<img src=\"Images/EyeOnly.png\" width=\"800\" height=\"800\" />"
   ]
  },
  {
   "cell_type": "markdown",
   "metadata": {
    "slideshow": {
     "slide_type": "fragment"
    }
   },
   "source": [
    "However, in real life, we take many decisions based not solely on what we observe but\n",
    "also on some believes of ours."
   ]
  },
  {
   "cell_type": "markdown",
   "metadata": {
    "slideshow": {
     "slide_type": "slide"
    }
   },
   "source": [
    "We usually use another organ, the brain, to make inferences on the probability of a particular\n",
    "event to occur.\n",
    "<img src=\"Images/EyeBrain.png\" width=\"800\" height=\"800\" />"
   ]
  },
  {
   "cell_type": "markdown",
   "metadata": {
    "slideshow": {
     "slide_type": "notes"
    }
   },
   "source": [
    "Note that in this cartoon the brain is \"blind\", in the sense that it does not observe the data\n",
    "(no arrow pointing to the eye) but its inferences on the event are based on its own believes."
   ]
  },
  {
   "cell_type": "markdown",
   "metadata": {
    "slideshow": {
     "slide_type": "slide"
    }
   },
   "source": [
    "Back to the Loch Ness monster case, we can clearly have some believes whether or not Nessie\n",
    "exists not only because I told you I saw it in the campus.\n",
    "This \"belief\" expresses the probability of Nessie existing $p(N)$ unconditional of the data.\n",
    "Our intuition is that the probability of $N=1$ is\n",
    "somehow a joint product of the likelihood (the eyes) and the belief (the brain).\n",
    "Therefore, $p(N|D) \\propto p(D|N)p(N)$."
   ]
  },
  {
   "cell_type": "markdown",
   "metadata": {
    "slideshow": {
     "slide_type": "subslide"
    }
   },
   "source": [
    "How can we define $p(N)$?\n",
    "This depends on our blind \"belief\" function.\n",
    "If you are a Sci-Fi fan you might be inclined to set a higher probability (e.g. $p(N=0.2)$) than the one a\n",
    "pragmatical and sceptical person would set (e.g. $p(N=0.002)$).\n",
    "\n",
    "As an illustration, let's assume that $p(D=1|N=0)=0.001$ and $p(D=1|N=1)=0.1$.\n",
    "In the \"Sci-Fi brain\", $p(N=1|D=1) \\propto p(D=1|N=1)p(N=1) \\propto 0.1 \\times 0.2 = 2e-2$.\n",
    "In the \"sceptical brain\", $p(N=1|D=1) \\propto 0.1 \\times 0.002 = 2e-4$."
   ]
  },
  {
   "cell_type": "markdown",
   "metadata": {
    "slideshow": {
     "slide_type": "notes"
    }
   },
   "source": [
    "Note that these are not proper probabilities (we will see later how to calculate proper probabilities using \"belief\" functions).\n",
    "We can deduct how the choice of a different \"belief\" function can point us to either different conclusions or confidence levels."
   ]
  },
  {
   "cell_type": "markdown",
   "metadata": {
    "slideshow": {
     "slide_type": "slide"
    }
   },
   "source": [
    "In statistics, the \"belief\" function (e.g. $p(N)$) is called _prior probability_ and\n",
    "the joint product of the likelihood ($p(D|N)$) and the prior ($p(N)$) is proportional to\n",
    "the _posterior probability_ ($p(N|D)$).\n",
    "\n",
    "The use of posterior probabilities for inferences is called Bayesian statistics."
   ]
  },
  {
   "cell_type": "markdown",
   "metadata": {
    "slideshow": {
     "slide_type": "skip"
    }
   },
   "source": [
    "## Who, what and why?"
   ]
  },
  {
   "cell_type": "markdown",
   "metadata": {
    "slideshow": {
     "slide_type": "slide"
    }
   },
   "source": [
    "### Who\n",
    "\n",
    "Bayesian statistics is called after Thomas Bayes (1701–1761), an English statistician, philosopher and Presbyterian minister.\n",
    "![](Images/ThomasBayes.jpeg)"
   ]
  },
  {
   "cell_type": "markdown",
   "metadata": {
    "slideshow": {
     "slide_type": "fragment"
    }
   },
   "source": [
    "Thomas Bayes never published his famous accomplishment in statistics. (remember what they say: \"publish or perish\"... he perished)."
   ]
  },
  {
   "cell_type": "markdown",
   "metadata": {
    "slideshow": {
     "slide_type": "skip"
    }
   },
   "source": [
    "His notes were edited and published after his death.\n",
    "He studied logic and theology and at the age of 33 he became a minister in a village in Kent.\n",
    "Only in his later years Thomas Bayes took a deep interest in probability.\n",
    "\n",
    "The general interpretation of statistical inference called Bayesian was in reality pioneered\n",
    "by Pierre-Simon Laplace.\n",
    "In fact, some argue that Thomas Bayes intended his results in a very limited way than modern\n",
    "Bayesians would intend them.\n",
    "In the special case Thomas Bayes presented, the prior and posterior distributions were Beta\n",
    "distributions and the data came from Bernoulli trials.\n",
    "Interestingly, early Bayesian inference was called \"inverse probability\", because it infers\n",
    "backwards from observations to parameters.\n",
    "![](Images/Laplace.jpg)"
   ]
  },
  {
   "cell_type": "markdown",
   "metadata": {
    "slideshow": {
     "slide_type": "slide"
    }
   },
   "source": [
    "### What\n",
    "\n",
    "Bayesian statistics is an alternative to classical frequentist approaches, where\n",
    "maximum likelihood estimates (MLE) and hypothesis testing based on _p_-values\n",
    "are often used.\n",
    "\n",
    "However, there is no definite division between frequentists and Bayesians as, in\n",
    "many modern applications, the approach taken is eclectic."
   ]
  },
  {
   "cell_type": "markdown",
   "metadata": {
    "slideshow": {
     "slide_type": "skip"
    }
   },
   "source": [
    "We now discuss further examples where a Bayesian approach seems the more appropriate\n",
    "strategy to adopt for statistics inference."
   ]
  },
  {
   "cell_type": "markdown",
   "metadata": {
    "slideshow": {
     "slide_type": "slide"
    }
   },
   "source": [
    "Imagine you have just submitted a manuscript for publication to a\n",
    "peer-reviewed journal.\n",
    "You want to assess its probability of being accepted and published.\n",
    "\n",
    "<center><img src=\"Images/journals.png\" width=\"400\" height=\"400\" /><center>"
   ]
  },
  {
   "cell_type": "markdown",
   "metadata": {
    "slideshow": {
     "slide_type": "notes"
    }
   },
   "source": [
    "This assessment may use, for instance, the information regarding the journal's acceptance rate, the quality of the study and its relevance to the journal's scope."
   ]
  },
  {
   "cell_type": "markdown",
   "metadata": {
    "slideshow": {
     "slide_type": "fragment"
    }
   },
   "source": [
    "Your manuscript is accepted. What is the probability that your next manuscript will be accepted?"
   ]
  },
  {
   "cell_type": "markdown",
   "metadata": {
    "slideshow": {
     "slide_type": "notes"
    }
   },
   "source": [
    "You had one success over one trial. Therefore, the probability is 100%.\n",
    "However, it looks clear that this estimate is somehow \"wrong\" as it is based on a small sample size and we know that the acceptance rate is anyway smaller than 100%.\n",
    "\n",
    "You can think of the journal's acceptance rate (e.g. 20%) as our prior information.\n",
    "You are then tempted to set a probability of being accepted smaller than 100%.\n",
    "By doing so you are behaving as a Bayesian statistician, as you are adjusting the\n",
    "direct estimate in light of a prior information.\n",
    "Bayesian statistics have the ability to incorporate prior information into an analysis."
   ]
  },
  {
   "cell_type": "markdown",
   "metadata": {
    "slideshow": {
     "slide_type": "slide"
    }
   },
   "source": [
    "Suppose you are conducting an experiment of measuring the biodiversity\n",
    "of some species on particular rock shores in Scotland.\n",
    "Specifically, you are collecting the number of different species of algae in 4 different locations across time, over 3 years.\n",
    "Unfortunately, something happened in 2016 for Location B and you do not have data reported."
   ]
  },
  {
   "cell_type": "markdown",
   "metadata": {
    "slideshow": {
     "slide_type": "subslide"
    }
   },
   "source": [
    "\n",
    "| Year | Loc. A | Loc. B | Loc. C | Loc. D |\n",
    "| ---- | ------ | ------ | ------ | ------ |\n",
    "| 2015 | 45     |   54   | 47     |   52   |\n",
    "| 2016 | 41     | n.a.   | 43     | 45     |\n",
    "| 2017 | 32     | 38     | 37     | 35     |\n"
   ]
  },
  {
   "cell_type": "markdown",
   "metadata": {
    "slideshow": {
     "slide_type": "fragment"
    }
   },
   "source": [
    "What is a reasonable value for the missing entry? How about 100?"
   ]
  },
  {
   "cell_type": "markdown",
   "metadata": {
    "slideshow": {
     "slide_type": "notes"
    }
   },
   "source": [
    "Perhaps 100 is too high since the numbers surrounding the entry may point towards a value of around 45.\n",
    "We could fit a model or take an average to impute the missing data.\n",
    "\n",
    "Now assume that you have access to some data for Location B in 2016.\n",
    "Specifically, you have partial data where you could retrieve biodiversity levels only for a fifth $(1/5)$  of Location B for 2016.\n",
    "You extrapolate such partial value to obtain an estimate which turns out to be 100.\n",
    "Are you willing now to impute missing data with 100, extrapolated from some partial coverage, while before you thought this number was much higher than expected?"
   ]
  },
  {
   "cell_type": "markdown",
   "metadata": {
    "slideshow": {
     "slide_type": "notes"
    }
   },
   "source": [
    "A more intuitive solution would be to take a sort of weighted average between this direct\n",
    "(but uncertain) measurement (100) and the indirect estimate you used (45, the average of surrouding cells)\n",
    "when there was no information available.\n",
    "\n",
    "Finally, imagine that you can retrieve biodiversity values for half $(1/2)$ of Location B in 2016.\n",
    "If so, then you would like to \"weight\" more such observation than to the previous case where only\n",
    "a fifth of the area was available.\n",
    "\n",
    "Bayesian statistics formalises such integration between direct and indirect information."
   ]
  },
  {
   "cell_type": "markdown",
   "metadata": {
    "slideshow": {
     "slide_type": "slide"
    }
   },
   "source": [
    "* The _frequentist_ is based on imagining repeated sampling from a particular\n",
    " model, which defines the probability of the observed data conditional on unknown parameters.\n",
    "* The _likelihoodist_ uses the sampling model as the frequentists but all\n",
    " inferences are based on the observed data only.\n",
    "* The _Bayesian_ requires a sampling model (the likelihood) and a prior distribution\n",
    "  on all unknown parameters. The prior and the likelihood are used to compute the\n",
    "  conditional distribution of the unknown parameters given the observed data."
   ]
  },
  {
   "cell_type": "markdown",
   "metadata": {
    "slideshow": {
     "slide_type": "subslide"
    }
   },
   "source": [
    "* The _Empirical Bayesian_ (EB) allows the observed data to contribute to\n",
    "  defining the prior distribution.\n",
    "<img src=\"Images/EyeBrainEB.png\" width=\"800\" height=\"800\" />"
   ]
  },
  {
   "cell_type": "markdown",
   "metadata": {
    "slideshow": {
     "slide_type": "slide"
    }
   },
   "source": [
    "To put it in a different perspective, assuming $D$ is the data and $\\theta$ is your unknown parameter,\n",
    "the frequentist approach conditions on parameters and integrates over the data, $p(D|\\theta)$.\n",
    "\n",
    "On the other hand, the Bayesian approach conditions on the data and integrates over the\n",
    "parameters, $p(\\theta|D)$."
   ]
  },
  {
   "cell_type": "markdown",
   "metadata": {
    "slideshow": {
     "slide_type": "notes"
    }
   },
   "source": [
    "Therefore, in Bayesian statistics we derive proper probability distributions of our parameters\n",
    "of interest, rather than deriving a point estimate.\n",
    "In other words, in Bayesian statistics a probability is assigned to a hypothesis, while under a frequentist inference, a hypothesis is tested without being assigned to a probability of occurring.\n",
    "\n",
    "Unlike likelihoodist, Bayesian inferences can \"accept\" the null hypothesis rather\n",
    "than \"fail to reject\" it.\n",
    "Bayesian procedures can also impose parsimony in model choice and avoid further\n",
    "testing for multiple comparisons."
   ]
  },
  {
   "cell_type": "markdown",
   "metadata": {
    "slideshow": {
     "slide_type": "slide"
    }
   },
   "source": [
    "### Why\n",
    "\n",
    "Bayesian methods for data analysis are used because:\n",
    "* of the increased computing power over the last years;\n",
    "* they have good frequentist properties;\n",
    "* their answers are more easily interpretable by non-specialists;\n",
    "* they are already implemented in software packages.\n"
   ]
  },
  {
   "cell_type": "markdown",
   "metadata": {
    "slideshow": {
     "slide_type": "fragment"
    }
   },
   "source": [
    "Bayesian statistics is used in many topics in life sciences, such as genetics (e.g. fine-mapping of disease-susceptibility genes), ecology (e.g. agent-based models), evolution (e.g. inference of phylogenetic trees), bioinformatics (e.g. base calling)."
   ]
  }
 ],
 "metadata": {
  "celltoolbar": "Slideshow",
  "kernelspec": {
   "display_name": "R",
   "language": "R",
   "name": "ir"
  },
  "language_info": {
   "codemirror_mode": "r",
   "file_extension": ".r",
   "mimetype": "text/x-r-source",
   "name": "R",
   "pygments_lexer": "r",
   "version": "3.6.3"
  }
 },
 "nbformat": 4,
 "nbformat_minor": 2
}

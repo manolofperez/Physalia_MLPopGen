{
 "cells": [
  {
   "cell_type": "markdown",
   "metadata": {
    "slideshow": {
     "slide_type": "slide"
    }
   },
   "source": [
    "![ICL](Images/imperiallogo.jpeg)\n",
    "\n",
    "# Introduction to Bayesian methods in ecology and evolution\n",
    "\n",
    "## Thursday: 10 - Bayesian estimation of speciation times"
   ]
  },
  {
   "cell_type": "markdown",
   "metadata": {
    "slideshow": {
     "slide_type": "slide"
    }
   },
   "source": [
    "![](Images/PolarBear.jpg)"
   ]
  },
  {
   "cell_type": "markdown",
   "metadata": {
    "slideshow": {
     "slide_type": "slide"
    }
   },
   "source": [
    "##### Preparation\n",
    "\n",
    "For this practical you need some R packages, namely `coda`, `abc`, `maps`, `spam`, `fields`.\n",
    "For plotting purposes you may also want to use `ggplot2`.\n",
    "\n",
    "You will also need the software `ms` to be installed.\n",
    "You can find the executable for linux in `bin/ms`.\n",
    "If it doesn't work, you can compile the source `Software/ms.tar.gz` by\n",
    "`tar -xzvf ms.tar.gz; cd msdir; gcc -o ms ms.c streec.c rand1.c -lm`.\n",
    "Finally you need some data and R functions provided in `Data`.\n",
    "\n",
    "I suggest to copy `functions.R` and `polar.brown.sfs*` in the workspace where you will run this practical without overwriting the repository.\n",
    "\n",
    "You can work in teams for this practical. Actually, I encourage that you team up for this exercise (e.g., max 4 students)."
   ]
  },
  {
   "cell_type": "markdown",
   "metadata": {
    "slideshow": {
     "slide_type": "slide"
    }
   },
   "source": [
    "##### Project\n",
    "\n",
    "In this practical you are going to estimate the divergence (or speciation) time between polar bears and brown bears using genomics data. You will be using Approximate Bayesian Computation (ABC) methods to inference such time."
   ]
  },
  {
   "cell_type": "code",
   "execution_count": 1,
   "metadata": {
    "slideshow": {
     "slide_type": "slide"
    }
   },
   "outputs": [
    {
     "name": "stderr",
     "output_type": "stream",
     "text": [
      "Loading required package: spam\n",
      "\n",
      "Spam version 2.10-0 (2023-10-23) is loaded.\n",
      "Type 'help( Spam)' or 'demo( spam)' for a short introduction \n",
      "and overview of this package.\n",
      "Help for individual functions is also obtained by adding the\n",
      "suffix '.spam' to the function name, e.g. 'help( chol.spam)'.\n",
      "\n",
      "\n",
      "Attaching package: ‘spam’\n",
      "\n",
      "\n",
      "The following objects are masked from ‘package:base’:\n",
      "\n",
      "    backsolve, forwardsolve\n",
      "\n",
      "\n",
      "Loading required package: viridisLite\n",
      "\n",
      "\n",
      "Try help(fields) to get started.\n",
      "\n"
     ]
    },
    {
     "data": {
      "text/html": [
       "<style>\n",
       ".list-inline {list-style: none; margin:0; padding: 0}\n",
       ".list-inline>li {display: inline-block}\n",
       ".list-inline>li:not(:last-child)::after {content: \"\\00b7\"; padding: 0 .5ex}\n",
       "</style>\n",
       "<ol class=list-inline><li>'calcGenoLikes'</li><li>'calcSummaryStats'</li><li>'doFST'</li><li>'fold2DSFS'</li><li>'fromMStoSFS'</li><li>'L_times_pi'</li><li>'plot2DSFS'</li><li>'polar.brown.sfs'</li><li>'reynolds'</li><li>'simulate'</li></ol>\n"
      ],
      "text/latex": [
       "\\begin{enumerate*}\n",
       "\\item 'calcGenoLikes'\n",
       "\\item 'calcSummaryStats'\n",
       "\\item 'doFST'\n",
       "\\item 'fold2DSFS'\n",
       "\\item 'fromMStoSFS'\n",
       "\\item 'L\\_times\\_pi'\n",
       "\\item 'plot2DSFS'\n",
       "\\item 'polar.brown.sfs'\n",
       "\\item 'reynolds'\n",
       "\\item 'simulate'\n",
       "\\end{enumerate*}\n"
      ],
      "text/markdown": [
       "1. 'calcGenoLikes'\n",
       "2. 'calcSummaryStats'\n",
       "3. 'doFST'\n",
       "4. 'fold2DSFS'\n",
       "5. 'fromMStoSFS'\n",
       "6. 'L_times_pi'\n",
       "7. 'plot2DSFS'\n",
       "8. 'polar.brown.sfs'\n",
       "9. 'reynolds'\n",
       "10. 'simulate'\n",
       "\n",
       "\n"
      ],
      "text/plain": [
       " [1] \"calcGenoLikes\"    \"calcSummaryStats\" \"doFST\"            \"fold2DSFS\"       \n",
       " [5] \"fromMStoSFS\"      \"L_times_pi\"       \"plot2DSFS\"        \"polar.brown.sfs\" \n",
       " [9] \"reynolds\"         \"simulate\"        "
      ]
     },
     "metadata": {},
     "output_type": "display_data"
    }
   ],
   "source": [
    "# Open R and load all R functions and data needed:\n",
    "source(\"Data/functions.R\")\n",
    "load(\"Data/polar.brown.sfs.Rdata\")\n",
    "\n",
    "# Inspect the objects:\n",
    "ls()"
   ]
  },
  {
   "cell_type": "markdown",
   "metadata": {
    "slideshow": {
     "slide_type": "subslide"
    }
   },
   "source": [
    "The file `polar.brown.sfs` includes the joint (2 dimensions) site frequency\n",
    "spectrum (SFS) between polar bears (on the rows) and brown bears (on the columns).\n",
    "This is based on real genomic data from 18 polar bears and 7 brown bears.\n",
    "The site frequency spectrum is a matrix $N \\times M$ where cell $(i,j)$ reports the number of sites\n",
    "with allele frequency $(i-1)$ in polar bears and $(j-1)$ in brown bears.\n",
    "If you want to see this file type `cat polar.brown.sfs` in your terminal."
   ]
  },
  {
   "cell_type": "code",
   "execution_count": 2,
   "metadata": {
    "slideshow": {
     "slide_type": "subslide"
    }
   },
   "outputs": [
    {
     "data": {
      "image/png": "[encoded data removed]",
      "text/plain": [
       "Plot with title “2D-SFS”"
      ]
     },
     "metadata": {
      "image/png": {
       "height": 420,
       "width": 420
      }
     },
     "output_type": "display_data"
    }
   ],
   "source": [
    "# You can plot this spectrum:\n",
    "plot2DSFS(polar.brown.sfs, xlab=\"Polar\", ylab=\"Brown\", main=\"2D-SFS\")"
   ]
  },
  {
   "cell_type": "markdown",
   "metadata": {
    "slideshow": {
     "slide_type": "fragment"
    }
   },
   "source": [
    "Each population has $2n+1$ entries in its spectrum, with $n$ being the number of individuals.\n",
    "The number of chromosomes for each species (bears are diploids, like humans)\n",
    "can be retrieved as:"
   ]
  },
  {
   "cell_type": "code",
   "execution_count": 3,
   "metadata": {
    "slideshow": {
     "slide_type": "fragment"
    }
   },
   "outputs": [
    {
     "data": {
      "text/html": [
       "36"
      ],
      "text/latex": [
       "36"
      ],
      "text/markdown": [
       "36"
      ],
      "text/plain": [
       "[1] 36"
      ]
     },
     "metadata": {},
     "output_type": "display_data"
    },
    {
     "data": {
      "text/html": [
       "14"
      ],
      "text/latex": [
       "14"
      ],
      "text/markdown": [
       "14"
      ],
      "text/plain": [
       "[1] 14"
      ]
     },
     "metadata": {},
     "output_type": "display_data"
    }
   ],
   "source": [
    "nChroms.polar <- nrow(polar.brown.sfs)-1\n",
    "nChroms.polar\n",
    "nChroms.brown <- ncol(polar.brown.sfs)-1\n",
    "nChroms.brown"
   ]
  },
  {
   "cell_type": "markdown",
   "metadata": {
    "slideshow": {
     "slide_type": "slide"
    }
   },
   "source": [
    "The only thing you need to remember about the site frequency spectrum is that we\n",
    "can easily calculate several summary statistics from it.\n",
    "These summary statistics can be used for inferences in an Approximate Bayesian\n",
    "Computation (ABC) framework.\n",
    "\n",
    "For instance, from the site frequency spectrum, we can easily calculate the\n",
    "number of analysed sites (in this example all sites are polymorphic, and thus\n",
    "variable in our sample), which is simply the sum of all entries in the SFS."
   ]
  },
  {
   "cell_type": "code",
   "execution_count": 4,
   "metadata": {
    "slideshow": {
     "slide_type": "fragment"
    }
   },
   "outputs": [
    {
     "data": {
      "text/html": [
       "16556"
      ],
      "text/latex": [
       "16556"
      ],
      "text/markdown": [
       "16556"
      ],
      "text/plain": [
       "[1] 16556"
      ]
     },
     "metadata": {},
     "output_type": "display_data"
    }
   ],
   "source": [
    "nrSites <- sum(polar.brown.sfs, na.rm=T)\n",
    "nrSites"
   ]
  },
  {
   "cell_type": "markdown",
   "metadata": {
    "slideshow": {
     "slide_type": "subslide"
    }
   },
   "source": [
    "This value is important as we will condition the simulations to generate this\n",
    "number of sites for each repetition.\n",
    "In other words, when simulating data we will simulate exactly this number of\n",
    "polymoprhic sites to calculate the site frequency spectrum and all\n",
    "corresponding summary statistics afterwards.\n",
    "\n",
    "I provide a function to easily calculate several summary statistics\n",
    "from a site frequency spectrum."
   ]
  },
  {
   "cell_type": "code",
   "execution_count": 5,
   "metadata": {
    "slideshow": {
     "slide_type": "fragment"
    }
   },
   "outputs": [
    {
     "data": {
      "text/html": [
       "<style>\n",
       ".dl-inline {width: auto; margin:0; padding: 0}\n",
       ".dl-inline>dt, .dl-inline>dd {float: none; width: auto; display: inline-block}\n",
       ".dl-inline>dt::after {content: \":\\0020\"; padding-right: .5ex}\n",
       ".dl-inline>dt:not(:first-of-type) {padding-left: .5ex}\n",
       "</style><dl class=dl-inline><dt>fst</dt><dd>0.565642690122126</dd><dt>pivar1</dt><dd>0.0524495986684921</dd><dt>pivar2</dt><dd>0.209206715005217</dd><dt>sing1</dt><dd>0.0884875573810099</dd><dt>sing2</dt><dd>0.366634452766369</dd><dt>doub1</dt><dd>0.047052428122735</dd><dt>doub2</dt><dd>0.0942256583715873</dd><dt>pef</dt><dd>0.00899975839574777</dd><dt>puf</dt><dd>0.991000241604252</dd></dl>\n"
      ],
      "text/latex": [
       "\\begin{description*}\n",
       "\\item[fst] 0.565642690122126\n",
       "\\item[pivar1] 0.0524495986684921\n",
       "\\item[pivar2] 0.209206715005217\n",
       "\\item[sing1] 0.0884875573810099\n",
       "\\item[sing2] 0.366634452766369\n",
       "\\item[doub1] 0.047052428122735\n",
       "\\item[doub2] 0.0942256583715873\n",
       "\\item[pef] 0.00899975839574777\n",
       "\\item[puf] 0.991000241604252\n",
       "\\end{description*}\n"
      ],
      "text/markdown": [
       "fst\n",
       ":   0.565642690122126pivar1\n",
       ":   0.0524495986684921pivar2\n",
       ":   0.209206715005217sing1\n",
       ":   0.0884875573810099sing2\n",
       ":   0.366634452766369doub1\n",
       ":   0.047052428122735doub2\n",
       ":   0.0942256583715873pef\n",
       ":   0.00899975839574777puf\n",
       ":   0.991000241604252\n",
       "\n"
      ],
      "text/plain": [
       "        fst      pivar1      pivar2       sing1       sing2       doub1 \n",
       "0.565642690 0.052449599 0.209206715 0.088487557 0.366634453 0.047052428 \n",
       "      doub2         pef         puf \n",
       "0.094225658 0.008999758 0.991000242 "
      ]
     },
     "metadata": {},
     "output_type": "display_data"
    }
   ],
   "source": [
    "obsSummaryStats <- calcSummaryStats(polar.brown.sfs)\n",
    "obsSummaryStats\n",
    "# These are the OBSERVED summary statistics! Keep them."
   ]
  },
  {
   "cell_type": "markdown",
   "metadata": {
    "slideshow": {
     "slide_type": "slide"
    }
   },
   "source": [
    "These are the summary statistics available in this practical and their meaning\n",
    "is the following:\n",
    "* fst: population genetic differentiation; it measures how much species are genetically different; it goes from 0 (identical) to 1 (completely different);\n",
    "* pivar1: genetic diversity of species 1 (polar bears);\n",
    "* pivar2: genetic diversity of species 1 (brown bears);\n",
    "* sing1: number of singletons (sites with frequency equal to 1) for species 1 (polar bears);\n",
    "* sing2: number of singletons (sites with frequency equal to 1) for species 2 (brown bears);\n",
    "* doub1: number of doubletons (sites with frequency equal to 2) for species 1 (polar bears);\n",
    "* doub2: number of doubletons (sites with frequency equal to 2) for species 2 (brown bears);\n",
    "* pef: proportion of sites with equal frequency between polar bears and brown bears;\n",
    "* puf: proportion of sites with unequal frequency between polar bears and brown bears (note that puf=1-pef).\n",
    "\n",
    "It is not important that you understand the significance (if any) of all these summary statistics in an evolutionary context.\n",
    "If interested, a nice review is \"Molecular Signatures of Natural Selection\" by Rasmus Nielsen.\n",
    "However, some of these summary statistics might be more informative than others.\n",
    "It is your first goal to understand which summary statistics to keep.\n",
    "\n",
    "The parameter you want to estimate is the divergence time between polar and brown bears (T).\n",
    "You first aim is to performs N simulations of data by drawing from a prior distribution of T and record (separately) the drawn values and the corresponding summary statistics generated by that value of T.\n",
    "\n",
    "You can define how many simulations you want to perform (ideally a lot)."
   ]
  },
  {
   "cell_type": "code",
   "execution_count": 8,
   "metadata": {
    "slideshow": {
     "slide_type": "slide"
    }
   },
   "outputs": [],
   "source": [
    "nrSimul <- 1e4 # but change this accordingly"
   ]
  },
  {
   "cell_type": "markdown",
   "metadata": {
    "slideshow": {
     "slide_type": "slide"
    }
   },
   "source": [
    "Then you should define the prior distribution of our parameter to be estimated,\n",
    "the divergence time T.\n",
    "You can use any distribution you find suitable.\n",
    "However, you may want to consider that a reasonable range of values for T is\n",
    "between 200k and 700k years ago.\n",
    "\n",
    "The function to simulate data (specifically the site frequency spectrum)\n",
    "given values of T (and M, the migration rate) is `simulate`:"
   ]
  },
  {
   "cell_type": "code",
   "execution_count": 6,
   "metadata": {
    "slideshow": {
     "slide_type": "fragment"
    }
   },
   "outputs": [
    {
     "data": {
      "text/html": [
       "<pre class=language-r><code>function (T, M, nr_snps, ms_dir, fout) \n",
       "{\n",
       "<span style=white-space:pre-wrap>    gen_time &lt;- 8.423</span>\n",
       "<span style=white-space:pre-wrap>    ref_pop_size &lt;- 68000</span>\n",
       "<span style=white-space:pre-wrap>    Tcoal &lt;- T/(gen_time * ref_pop_size * 4)</span>\n",
       "<span style=white-space:pre-wrap>    cat(\"\", file = fout)</span>\n",
       "<span style=white-space:pre-wrap>    ms.command &lt;- paste(ms_dir, \"50\", nr_snps, \"-s 1 -I 2 36 14 -n 1 1 -n 2 6.8 -en 0.02269 1 0.07353 -en 0.05281 2 0.2941 -em 0.06459 1 2\", </span>\n",
       "<span style=white-space:pre-wrap>        M, \"-em 0.1392 1 2 0 -en 0.1392 1 0.2941 -ej\", Tcoal, </span>\n",
       "<span style=white-space:pre-wrap>        \"2 1 -en 0.3924 1 1.809 &gt;\", fout)</span>\n",
       "<span style=white-space:pre-wrap>    system(ms.command)</span>\n",
       "}</code></pre>"
      ],
      "text/latex": [
       "\\begin{minted}{r}\n",
       "function (T, M, nr\\_snps, ms\\_dir, fout) \n",
       "\\{\n",
       "    gen\\_time <- 8.423\n",
       "    ref\\_pop\\_size <- 68000\n",
       "    Tcoal <- T/(gen\\_time * ref\\_pop\\_size * 4)\n",
       "    cat(\"\", file = fout)\n",
       "    ms.command <- paste(ms\\_dir, \"50\", nr\\_snps, \"-s 1 -I 2 36 14 -n 1 1 -n 2 6.8 -en 0.02269 1 0.07353 -en 0.05281 2 0.2941 -em 0.06459 1 2\", \n",
       "        M, \"-em 0.1392 1 2 0 -en 0.1392 1 0.2941 -ej\", Tcoal, \n",
       "        \"2 1 -en 0.3924 1 1.809 >\", fout)\n",
       "    system(ms.command)\n",
       "\\}\n",
       "\\end{minted}"
      ],
      "text/markdown": [
       "```r\n",
       "function (T, M, nr_snps, ms_dir, fout) \n",
       "{\n",
       "    gen_time <- 8.423\n",
       "    ref_pop_size <- 68000\n",
       "    Tcoal <- T/(gen_time * ref_pop_size * 4)\n",
       "    cat(\"\", file = fout)\n",
       "    ms.command <- paste(ms_dir, \"50\", nr_snps, \"-s 1 -I 2 36 14 -n 1 1 -n 2 6.8 -en 0.02269 1 0.07353 -en 0.05281 2 0.2941 -em 0.06459 1 2\", \n",
       "        M, \"-em 0.1392 1 2 0 -en 0.1392 1 0.2941 -ej\", Tcoal, \n",
       "        \"2 1 -en 0.3924 1 1.809 >\", fout)\n",
       "    system(ms.command)\n",
       "}\n",
       "```"
      ],
      "text/plain": [
       "function (T, M, nr_snps, ms_dir, fout) \n",
       "{\n",
       "    gen_time <- 8.423\n",
       "    ref_pop_size <- 68000\n",
       "    Tcoal <- T/(gen_time * ref_pop_size * 4)\n",
       "    cat(\"\", file = fout)\n",
       "    ms.command <- paste(ms_dir, \"50\", nr_snps, \"-s 1 -I 2 36 14 -n 1 1 -n 2 6.8 -en 0.02269 1 0.07353 -en 0.05281 2 0.2941 -em 0.06459 1 2\", \n",
       "        M, \"-em 0.1392 1 2 0 -en 0.1392 1 0.2941 -ej\", Tcoal, \n",
       "        \"2 1 -en 0.3924 1 1.809 >\", fout)\n",
       "    system(ms.command)\n",
       "}"
      ]
     },
     "metadata": {},
     "output_type": "display_data"
    }
   ],
   "source": [
    "simulate"
   ]
  },
  {
   "cell_type": "markdown",
   "metadata": {
    "slideshow": {
     "slide_type": "subslide"
    }
   },
   "source": [
    "This function takes as parameters: T (divergence time), M (migration rate),\n",
    "how many sites to simulate, the directory for `ms` program and the text file\n",
    "in output.\n",
    "This function simulates a joint evolutionary history for both polar and brown\n",
    "bears according to what we know in terms of their respective changes in size.\n",
    "However, you can set when they speciated (T in years ago) and the migration rate (M).\n",
    "(Note that the migration rate is scaled by the reference population size\n",
    "so a reasonable range of M is between 0 and 2.)\n",
    "\n",
    "As an example, assuming T=200k and M=0 the command to simulate data and\n",
    "calculate summary statistics is the following:"
   ]
  },
  {
   "cell_type": "code",
   "execution_count": 9,
   "metadata": {
    "slideshow": {
     "slide_type": "slide"
    }
   },
   "outputs": [
    {
     "data": {
      "text/html": [
       "<style>\n",
       ".dl-inline {width: auto; margin:0; padding: 0}\n",
       ".dl-inline>dt, .dl-inline>dd {float: none; width: auto; display: inline-block}\n",
       ".dl-inline>dt::after {content: \":\\0020\"; padding-right: .5ex}\n",
       ".dl-inline>dt:not(:first-of-type) {padding-left: .5ex}\n",
       "</style><dl class=dl-inline><dt>fst</dt><dd>NaN</dd><dt>pivar1</dt><dd>0</dd><dt>pivar2</dt><dd>0</dd><dt>sing1</dt><dd>0</dd><dt>sing2</dt><dd>0</dd><dt>doub1</dt><dd>0</dd><dt>doub2</dt><dd>0</dd><dt>pef</dt><dd>NaN</dd><dt>puf</dt><dd>NaN</dd></dl>\n"
      ],
      "text/latex": [
       "\\begin{description*}\n",
       "\\item[fst] NaN\n",
       "\\item[pivar1] 0\n",
       "\\item[pivar2] 0\n",
       "\\item[sing1] 0\n",
       "\\item[sing2] 0\n",
       "\\item[doub1] 0\n",
       "\\item[doub2] 0\n",
       "\\item[pef] NaN\n",
       "\\item[puf] NaN\n",
       "\\end{description*}\n"
      ],
      "text/markdown": [
       "fst\n",
       ":   NaNpivar1\n",
       ":   0pivar2\n",
       ":   0sing1\n",
       ":   0sing2\n",
       ":   0doub1\n",
       ":   0doub2\n",
       ":   0pef\n",
       ":   NaNpuf\n",
       ":   NaN\n",
       "\n"
      ],
      "text/plain": [
       "   fst pivar1 pivar2  sing1  sing2  doub1  doub2    pef    puf \n",
       "   NaN      0      0      0      0      0      0    NaN    NaN "
      ]
     },
     "metadata": {},
     "output_type": "display_data"
    },
    {
     "data": {
      "image/png": "[encoded data removed]",
      "text/plain": [
       "Plot with title “simulated 2D-SFS”"
      ]
     },
     "metadata": {
      "image/png": {
       "height": 420,
       "width": 420
      }
     },
     "output_type": "display_data"
    }
   ],
   "source": [
    "# first, set the path to the \"ms\" software you installed\n",
    "msDir <- \"bin/ms\" # this is my specific case, yours could be different\n",
    "\n",
    "# second, set the name for the output text file\n",
    "fout <- \"ms.txt\" # leave it like here\n",
    "\n",
    "# then we can simulate data:\n",
    "simulate(T=2e5, M=0, nrSites, msDir, fout)\n",
    "\n",
    "# and finally calculate the summary statistics for this simulation \n",
    "#(note that you need to specify the number of chromosomes for the two species)\n",
    "simulatedSFS <- fromMStoSFS(fout, nrSites, nChroms.polar, nChroms.brown)\n",
    "calcSummaryStats(simulatedSFS)\n",
    "\n",
    "# you can even plot the simulated site frequency spectrum\n",
    "plot2DSFS(simulatedSFS, xlab=\"Polar\", ylab=\"Brown\", main=\"simulated 2D-SFS\")"
   ]
  },
  {
   "cell_type": "markdown",
   "metadata": {
    "slideshow": {
     "slide_type": "subslide"
    }
   },
   "source": [
    "Based on the observed summary statistics 'fst', which measures how different\n",
    "polar and brown bears, in relation to the one calculated simulating T=2e5,\n",
    "can you make some initial (very rough) considerations on the most likely values\n",
    "of T (higher or lower than 200k years ago)?\n",
    "\n",
    "You can use the `abc` package and the `abc` function to calculate the posterior\n",
    "distribution (as well as to compute the distance between observed and expected summary statistics)."
   ]
  },
  {
   "cell_type": "code",
   "execution_count": null,
   "metadata": {
    "slideshow": {
     "slide_type": "slide"
    }
   },
   "outputs": [],
   "source": [
    "library(abc)\n",
    "?abc"
   ]
  },
  {
   "cell_type": "markdown",
   "metadata": {
    "slideshow": {
     "slide_type": "slide"
    }
   },
   "source": [
    "As you can see, to perform an ABC analysis you need 3 objects:\n",
    "* target: a vector of the observed summary statistics;\n",
    "* param: a vector, matrix or data frame of the simulated parameter values;\n",
    "* sumstat: a vector, matrix or data frame of the simulated summary statistics.\n",
    "\n",
    "You already have 'target' as it is the vector of observed summary statistics\n",
    "called 'obsSummaryStatistics'.\n",
    "\n",
    "You now have everything to estimate the divergence time.\n",
    "For simplicity assume that $M=0$.\n",
    "Also, you are free to choose a rejection or local-regression method, as specified in the 'abc' function.\n",
    "This is not strictly required, but if you want to explore the estimation of two parameters simultaneously, you can estimate M by defining a prior for it, draw random samples jointly of T and M, calculate summary statistics, and so on."
   ]
  },
  {
   "cell_type": "markdown",
   "metadata": {
    "slideshow": {
     "slide_type": "slide"
    }
   },
   "source": [
    "##### Hints\n",
    "\n",
    "Please consider these points carefully when completing the project.\n",
    "* Assess which summary statistics are more or less informative for the parameter estimation (e.g. after a first run of simulations with all parameters, look for correlations between the simulated parameter value and summary statistics).\n",
    "* You can also look for correlations between summary statistics and eventually use only one of the pair if two summary statistics are highly correlated. If you are a pro, you can also perform a principal component or multidimensional scaling analysis (e.g. with package 'pls') and by using each statistic's loadings, you can create novel uncorrelated summary statistics which are linear combinations of the previous ones (this part is purely suggestive and it is not required to obtain the full score).\n",
    "*  Remember to scale your simulated (jointly with the observed) summary statistics separately, so that the mean is zero and standard deviation is one.\n",
    "*  Generate a plot with the posterior distribution of the parameter of interest. You can also show the chosen prior distribution on the same plot.\n",
    "* Calculate the posterior mean, mode, median and  other notable quantities (e.g. 95% HPD interval) to summarise the posterior distribution.\n",
    "* I suggest you to use the 'abc' package in R instead of implementing methods (e.g. regression) yourself.\n",
    "* A useful diagnostic plot to show is the distribution of sampled values from the prior: do they cover the whole range of the prior (and are they distributed as expected)?"
   ]
  },
  {
   "cell_type": "code",
   "execution_count": null,
   "metadata": {
    "slideshow": {
     "slide_type": "subslide"
    }
   },
   "outputs": [],
   "source": [
    "# ..."
   ]
  }
 ],
 "metadata": {
  "celltoolbar": "Slideshow",
  "kernelspec": {
   "display_name": "R",
   "language": "R",
   "name": "ir"
  },
  "language_info": {
   "codemirror_mode": "r",
   "file_extension": ".r",
   "mimetype": "text/x-r-source",
   "name": "R",
   "pygments_lexer": "r",
   "version": "4.1.2"
  }
 },
 "nbformat": 4,
 "nbformat_minor": 4
}

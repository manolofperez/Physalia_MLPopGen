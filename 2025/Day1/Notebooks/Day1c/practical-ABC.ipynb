{
 "cells": [
  {
   "cell_type": "code",
   "execution_count": null,
   "id": "2f8fd2e7",
   "metadata": {},
   "outputs": [],
   "source": [
    "# COLAB users: this will allow you to run msprime in google colab\n",
    "!pip install -q condacolab\n",
    "import condacolab\n",
    "condacolab.install()\n",
    "!conda install -c conda-forge msprime\n",
    "!pip install tskit\n",
    "!pip install demesdraw"
   ]
  },
  {
   "cell_type": "code",
   "execution_count": null,
   "id": "bccbadc8",
   "metadata": {},
   "outputs": [],
   "source": [
    "# COLAB users\n",
    "from google.colab import drive\n",
    "drive.mount('/content/drive/')"
   ]
  },
  {
   "cell_type": "code",
   "execution_count": 1,
   "id": "704a8c87",
   "metadata": {},
   "outputs": [],
   "source": [
    "# Task: decide on prior distributions and generate simulations\n",
    "import os\n",
    "import csv\n",
    "import msprime\n",
    "import tskit\n",
    "import numpy as np\n",
    "import pandas as pd"
   ]
  },
  {
   "cell_type": "code",
   "execution_count": 17,
   "id": "56c69e76",
   "metadata": {},
   "outputs": [],
   "source": [
    "# Function for simulating data under an IM model with parameters:\n",
    "# Nanc, T_split, N1, N2, mig\n",
    "\n",
    "def im(params, sample_sizes, seed, reco):\n",
    "    \"\"\"Simulate data for 2 populations.\"\"\"\n",
    "    assert len(sample_sizes) == 2\n",
    "\n",
    "    # Extract parameters\n",
    "    N1 = params.get(\"N1\")\n",
    "    N2 = params.get(\"N2\")\n",
    "    T_split = params.get(\"T_split\")\n",
    "    N_anc = params.get(\"N_anc\")\n",
    "\n",
    "    # Define population configurations\n",
    "    population_configurations = [\n",
    "        msprime.PopulationConfiguration(sample_size=sample_sizes[0], initial_size=N1),\n",
    "        msprime.PopulationConfiguration(sample_size=sample_sizes[1], initial_size=N2)\n",
    "    ]\n",
    "\n",
    "    # Define migration events\n",
    "    mig = params.get(\"mig\")\n",
    "    mig_time = T_split / 2  # no migration initially\n",
    "    if mig >= 0:            # directional (pulse)\n",
    "        mig_event = msprime.MassMigration(time=mig_time, source=1, destination=0, proportion=abs(mig)) # migration from pop 1 into pop 0 (back in time)\n",
    "    else:\n",
    "        mig_event = msprime.MassMigration(time=mig_time, source=0, destination=1, proportion=abs(mig)) # migration from pop 0 into pop 1 (back in time)\n",
    "\n",
    "    # Define demographic events\n",
    "    demographic_events = [\n",
    "        mig_event,\n",
    "        msprime.MassMigration(time=T_split, source=1, destination=0, proportion=1.0), # move all in deme 1 to deme 0\n",
    "        msprime.PopulationParametersChange(time=T_split, initial_size=N_anc, population_id=0) # change to ancestral size\n",
    "    ]\n",
    "\n",
    "    # Simulate tree sequence\n",
    "    ts = msprime.simulate(\n",
    "        population_configurations=population_configurations,\n",
    "        demographic_events=demographic_events,\n",
    "        mutation_rate=params.get(\"mut\"),\n",
    "        length=params.get(\"length\"),\n",
    "        recombination_rate=reco,\n",
    "        random_seed=seed\n",
    "    )\n",
    "\n",
    "    return ts\n"
   ]
  },
  {
   "cell_type": "code",
   "execution_count": 18,
   "id": "3ed53aca",
   "metadata": {},
   "outputs": [],
   "source": [
    "# Define some initial parameters\n",
    "params = {\n",
    "    \"N1\": 100000,    # Population 1 size \n",
    "    \"N2\": 10000,     # Population 2 size \n",
    "    \"T_split\": 5000,    # Time of population split\n",
    "    \"N_anc\": 7148911,   # Ancestral population size (7,148,911)\n",
    "    \"mut\": 3.5e-9,      # Mutation rate, fixed\n",
    "    \"length\": 1e4,      # Sequence length, fixed\n",
    "    \"reco\": 8.4e-9,     # recombination rate, fixed\n",
    "    \"mig\": 0            # migration rate, fixed\n",
    "}"
   ]
  },
  {
   "cell_type": "code",
   "execution_count": 19,
   "id": "147627d4",
   "metadata": {},
   "outputs": [],
   "source": [
    "# Define additional parameters\n",
    "sample_sizes = [50, 50]  # Sample sizes for two populations\n",
    "seed = None               # Random seed"
   ]
  },
  {
   "cell_type": "markdown",
   "id": "39c2f8c8",
   "metadata": {},
   "source": [
    "## Task 1: define priors"
   ]
  },
  {
   "cell_type": "code",
   "execution_count": 9,
   "id": "c5e9b33e",
   "metadata": {},
   "outputs": [],
   "source": [
    "# Output directory\n",
    "output_directory = \".\"\n",
    "# Output file name\n",
    "output_file = os.path.join(output_directory, \"mosquito-task1.csv\")"
   ]
  },
  {
   "cell_type": "code",
   "execution_count": 10,
   "id": "4f2882a4",
   "metadata": {},
   "outputs": [],
   "source": [
    "# T_splits: we know that these populations have been separated by at least 100 generations and a major environmental change between these two locations happened around 8,000 generations ago\n",
    "T_splits = [5000]\n",
    "\n",
    "# N1/N2: we know from capture-recapture data that population1 is approximately 30x larger than population 2; we also don't have a clear intuition of each magnitude but from previous findings we expect values for population 1 between 50,000 and 200,000\n",
    "N1s = [60000]\n",
    "N2s = [2000]\n",
    "\n",
    "# migration_rates: we expect either complete isolation after the split (rate=0) or pervasive migration (rate=0.1)\n",
    "migration_rates = [0]\n"
   ]
  },
  {
   "cell_type": "code",
   "execution_count": 11,
   "id": "aa39897d",
   "metadata": {},
   "outputs": [],
   "source": [
    "# Open the output file in write mode\n",
    "with open(output_file, \"w\", newline=\"\") as csvfile:\n",
    "    writer = csv.writer(csvfile, delimiter=\",\")\n",
    "\n",
    "    # Write header\n",
    "    writer.writerow([\"Sim\", \"N1\", \"N2\", \"T_split\", \"mig\"])\n",
    "\n",
    "    # Perform sampling\n",
    "    for i in range(100):\n",
    "    \n",
    "        params[\"N1\"] = np.random.randint(low=50000, high=200000, size=1)[0]\n",
    "        params[\"N2\"] = int(params[\"N1\"] / 30)\n",
    "        params[\"mig\"] = np.random.choice([0,0.1], size=1)[0]\n",
    "        params[\"T_split\"] = int(np.random.normal(loc=8000, scale=2000, size=1)[0])\n",
    "\n",
    "        ts = im(params, sample_sizes, seed, params[\"reco\"])\n",
    "            \n",
    "        # Write data to file\n",
    "        writer.writerow([i+1, params[\"N1\"], params[\"N2\"], params[\"T_split\"], params[\"mig\"]])\n"
   ]
  },
  {
   "cell_type": "code",
   "execution_count": null,
   "id": "e0dddfd9",
   "metadata": {},
   "outputs": [],
   "source": [
    "# inspect the distributions using R script"
   ]
  },
  {
   "cell_type": "code",
   "execution_count": null,
   "id": "62d7d0ba",
   "metadata": {},
   "outputs": [],
   "source": [
    "simulations = pd.read_csv('/content/drive/MyDrive/mosquito-task1.csv')"
   ]
  },
  {
   "cell_type": "markdown",
   "id": "70a1ac72",
   "metadata": {},
   "source": [
    "## Task 2: simulate and perform ABC"
   ]
  },
  {
   "cell_type": "code",
   "execution_count": 20,
   "id": "6215c671",
   "metadata": {},
   "outputs": [],
   "source": [
    "# Output directory\n",
    "output_directory = \".\"\n",
    "# Output file name\n",
    "output_file = os.path.join(output_directory, \"mosquito-task2.csv\")"
   ]
  },
  {
   "cell_type": "code",
   "execution_count": 21,
   "id": "4675b771",
   "metadata": {},
   "outputs": [],
   "source": [
    "# Open the output file in write mode\n",
    "with open(output_file, \"w\", newline=\"\") as csvfile:\n",
    "    writer = csv.writer(csvfile, delimiter=\",\")\n",
    "\n",
    "    # Write header\n",
    "    writer.writerow([\"N1\", \"N2\", \"T_split\", \"mig\", \"Fst\", \"dxy\", \"segsites1\", \"segsites2\", \"pi1\", \"pi2\", \"tajima1\", \"tajima2\"])\n",
    "\n",
    "    # Perform simulations\n",
    "    for i in range(1000):\n",
    "\n",
    "        params[\"N1\"] = 150_000\n",
    "        params[\"N2\"] = 5_000\n",
    "        params[\"mig\"] = 0\n",
    "        params[\"T_split\"] = int(np.random.normal(loc=8000, scale=2000, size=1)[0])\n",
    "                        \n",
    "        ts = im(params, sample_sizes, seed, params[\"reco\"])\n",
    "\n",
    "        dxy = ts.divergence(sample_sets=[ts.samples(population=0), ts.samples(population=1)])\n",
    "\n",
    "        Fst = ts.Fst(sample_sets=[ts.samples(population=0), ts.samples(population=1)])\n",
    "\n",
    "        ssites = ts.segregating_sites(sample_sets=[ts.samples(population=0), ts.samples(population=1)])\n",
    "        div = ts.diversity(sample_sets=[ts.samples(population=0), ts.samples(population=1)])\n",
    "        tajima = ts.Tajimas_D(sample_sets=[ts.samples(population=0), ts.samples(population=1)])\n",
    "    \n",
    "        # Write data to file or print data\n",
    "        writer.writerow([params[\"N1\"], params[\"N2\"], params[\"T_split\"], params[\"mig\"], Fst, dxy, ssites[0], ssites[1], div[0], div[1], tajima[0], tajima[1]])\n"
   ]
  },
  {
   "cell_type": "code",
   "execution_count": null,
   "id": "4d7726b0",
   "metadata": {},
   "outputs": [],
   "source": [
    "# perform ABC using R script"
   ]
  },
  {
   "cell_type": "code",
   "execution_count": null,
   "id": "1b0d049a",
   "metadata": {},
   "outputs": [],
   "source": [
    "simulations = pd.read_csv('/content/drive/MyDrive/mosquito-task2.csv')"
   ]
  }
 ],
 "metadata": {
  "kernelspec": {
   "display_name": "Python 3 (ipykernel)",
   "language": "python",
   "name": "python3"
  },
  "language_info": {
   "codemirror_mode": {
    "name": "ipython",
    "version": 3
   },
   "file_extension": ".py",
   "mimetype": "text/x-python",
   "name": "python",
   "nbconvert_exporter": "python",
   "pygments_lexer": "ipython3",
   "version": "3.10.14"
  }
 },
 "nbformat": 4,
 "nbformat_minor": 5
}

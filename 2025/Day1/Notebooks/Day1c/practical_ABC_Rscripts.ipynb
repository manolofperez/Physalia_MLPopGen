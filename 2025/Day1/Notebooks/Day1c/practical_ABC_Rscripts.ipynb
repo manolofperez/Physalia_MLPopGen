{
 "cells": [
  {
   "cell_type": "markdown",
   "id": "d72dd9d1",
   "metadata": {},
   "source": [
    "## Task 1: inspect prior distributions"
   ]
  },
  {
   "cell_type": "code",
   "execution_count": 2,
   "id": "1f8497dc",
   "metadata": {},
   "outputs": [],
   "source": [
    "sims <- read.csv(\"mosquito-task1.csv\", head=T)\n",
    "\n",
    "# check prior distributions\n",
    "x11()\n",
    "par(mfrow=c(2,2))\n",
    "hist(sims$N1)\n",
    "hist(sims$N2)\n",
    "hist(sims$T_split)\n",
    "hist(sims$mig)\n"
   ]
  },
  {
   "cell_type": "markdown",
   "id": "24eaffd8",
   "metadata": {},
   "source": [
    "## Task 2: perform ABC"
   ]
  },
  {
   "cell_type": "code",
   "execution_count": 4,
   "id": "c7095577",
   "metadata": {},
   "outputs": [],
   "source": [
    "sims <- read.csv(\"mosquito-task2.csv\", head=T)\n",
    "\n",
    "# check prior distributions\n",
    "x11()\n",
    "par(mfrow=c(2,2))\n",
    "hist(sims$N1)\n",
    "hist(sims$N2)\n",
    "hist(sims$T_split)\n",
    "hist(sims$mig)\n"
   ]
  },
  {
   "cell_type": "code",
   "execution_count": 5,
   "id": "6e5f60e5",
   "metadata": {},
   "outputs": [
    {
     "data": {
      "text/html": [
       "0.46597880238651"
      ],
      "text/latex": [
       "0.46597880238651"
      ],
      "text/markdown": [
       "0.46597880238651"
      ],
      "text/plain": [
       "[1] 0.4659788"
      ]
     },
     "metadata": {},
     "output_type": "display_data"
    },
    {
     "data": {
      "text/html": [
       "0.107373212252762"
      ],
      "text/latex": [
       "0.107373212252762"
      ],
      "text/markdown": [
       "0.107373212252762"
      ],
      "text/plain": [
       "[1] 0.1073732"
      ]
     },
     "metadata": {},
     "output_type": "display_data"
    },
    {
     "data": {
      "text/html": [
       "-0.661713108999271"
      ],
      "text/latex": [
       "-0.661713108999271"
      ],
      "text/markdown": [
       "-0.661713108999271"
      ],
      "text/plain": [
       "[1] -0.6617131"
      ]
     },
     "metadata": {},
     "output_type": "display_data"
    },
    {
     "data": {
      "text/html": [
       "-0.544510067719829"
      ],
      "text/latex": [
       "-0.544510067719829"
      ],
      "text/markdown": [
       "-0.544510067719829"
      ],
      "text/plain": [
       "[1] -0.5445101"
      ]
     },
     "metadata": {},
     "output_type": "display_data"
    },
    {
     "data": {
      "text/html": [
       "-0.158923667702015"
      ],
      "text/latex": [
       "-0.158923667702015"
      ],
      "text/markdown": [
       "-0.158923667702015"
      ],
      "text/plain": [
       "[1] -0.1589237"
      ]
     },
     "metadata": {},
     "output_type": "display_data"
    },
    {
     "data": {
      "text/html": [
       "-0.451222650877468"
      ],
      "text/latex": [
       "-0.451222650877468"
      ],
      "text/markdown": [
       "-0.451222650877468"
      ],
      "text/plain": [
       "[1] -0.4512227"
      ]
     },
     "metadata": {},
     "output_type": "display_data"
    },
    {
     "data": {
      "text/html": [
       "0.670834307841808"
      ],
      "text/latex": [
       "0.670834307841808"
      ],
      "text/markdown": [
       "0.670834307841808"
      ],
      "text/plain": [
       "[1] 0.6708343"
      ]
     },
     "metadata": {},
     "output_type": "display_data"
    },
    {
     "data": {
      "text/html": [
       "-0.0620151279420452"
      ],
      "text/latex": [
       "-0.0620151279420452"
      ],
      "text/markdown": [
       "-0.0620151279420452"
      ],
      "text/plain": [
       "[1] -0.06201513"
      ]
     },
     "metadata": {},
     "output_type": "display_data"
    }
   ],
   "source": [
    "# remove simulations with NaN for some summary stats!\n",
    "\n",
    "# find useful summary stats which correlate with T_split\n",
    "cor(sims$Fst, sims$T_split)\n",
    "cor(sims$dxy, sims$T_split)\n",
    "cor(sims$segsites1, sims$T_split)\n",
    "cor(sims$segsites2, sims$T_split)\n",
    "cor(sims$pi1, sims$T_split)\n",
    "cor(sims$pi2, sims$T_split)\n",
    "cor(sims$tajima1, sims$T_split)\n",
    "cor(sims$tajima2, sims$T_split)\n"
   ]
  },
  {
   "cell_type": "code",
   "execution_count": 7,
   "id": "ce20e0c2",
   "metadata": {},
   "outputs": [
    {
     "data": {
      "text/html": [
       "<style>\n",
       ".dl-inline {width: auto; margin:0; padding: 0}\n",
       ".dl-inline>dt, .dl-inline>dd {float: none; width: auto; display: inline-block}\n",
       ".dl-inline>dt::after {content: \":\\0020\"; padding-right: .5ex}\n",
       ".dl-inline>dt:not(:first-of-type) {padding-left: .5ex}\n",
       "</style><dl class=dl-inline><dt>0%</dt><dd>0.0458790793883926</dd><dt>25%</dt><dd>0.115258031063223</dd><dt>50%</dt><dd>0.147879920752591</dd><dt>75%</dt><dd>0.198708638140978</dd><dt>100%</dt><dd>0.364614054456703</dd></dl>\n"
      ],
      "text/latex": [
       "\\begin{description*}\n",
       "\\item[0\\textbackslash{}\\%] 0.0458790793883926\n",
       "\\item[25\\textbackslash{}\\%] 0.115258031063223\n",
       "\\item[50\\textbackslash{}\\%] 0.147879920752591\n",
       "\\item[75\\textbackslash{}\\%] 0.198708638140978\n",
       "\\item[100\\textbackslash{}\\%] 0.364614054456703\n",
       "\\end{description*}\n"
      ],
      "text/markdown": [
       "0%\n",
       ":   0.045879079388392625%\n",
       ":   0.11525803106322350%\n",
       ":   0.14787992075259175%\n",
       ":   0.198708638140978100%\n",
       ":   0.364614054456703\n",
       "\n"
      ],
      "text/plain": [
       "        0%        25%        50%        75%       100% \n",
       "0.04587908 0.11525803 0.14787992 0.19870864 0.36461405 "
      ]
     },
     "metadata": {},
     "output_type": "display_data"
    },
    {
     "name": "stdout",
     "output_type": "stream",
     "text": [
      "0.2134143"
     ]
    },
    {
     "data": {
      "text/html": [
       "<style>\n",
       ".dl-inline {width: auto; margin:0; padding: 0}\n",
       ".dl-inline>dt, .dl-inline>dd {float: none; width: auto; display: inline-block}\n",
       ".dl-inline>dt::after {content: \":\\0020\"; padding-right: .5ex}\n",
       ".dl-inline>dt:not(:first-of-type) {padding-left: .5ex}\n",
       "</style><dl class=dl-inline><dt>0%</dt><dd>0.3648</dd><dt>25%</dt><dd>0.388325</dd><dt>50%</dt><dd>0.399</dd><dt>75%</dt><dd>0.413475</dd><dt>100%</dt><dd>0.44</dd></dl>\n"
      ],
      "text/latex": [
       "\\begin{description*}\n",
       "\\item[0\\textbackslash{}\\%] 0.3648\n",
       "\\item[25\\textbackslash{}\\%] 0.388325\n",
       "\\item[50\\textbackslash{}\\%] 0.399\n",
       "\\item[75\\textbackslash{}\\%] 0.413475\n",
       "\\item[100\\textbackslash{}\\%] 0.44\n",
       "\\end{description*}\n"
      ],
      "text/markdown": [
       "0%\n",
       ":   0.364825%\n",
       ":   0.38832550%\n",
       ":   0.39975%\n",
       ":   0.413475100%\n",
       ":   0.44\n",
       "\n"
      ],
      "text/plain": [
       "      0%      25%      50%      75%     100% \n",
       "0.364800 0.388325 0.399000 0.413475 0.440000 "
      ]
     },
     "metadata": {},
     "output_type": "display_data"
    },
    {
     "name": "stdout",
     "output_type": "stream",
     "text": [
      "0.3797"
     ]
    },
    {
     "data": {
      "text/html": [
       "<style>\n",
       ".dl-inline {width: auto; margin:0; padding: 0}\n",
       ".dl-inline>dt, .dl-inline>dd {float: none; width: auto; display: inline-block}\n",
       ".dl-inline>dt::after {content: \":\\0020\"; padding-right: .5ex}\n",
       ".dl-inline>dt:not(:first-of-type) {padding-left: .5ex}\n",
       "</style><dl class=dl-inline><dt>0%</dt><dd>2e-04</dd><dt>25%</dt><dd>0.103275</dd><dt>50%</dt><dd>0.14235</dd><dt>75%</dt><dd>0.164975</dd><dt>100%</dt><dd>0.2421</dd></dl>\n"
      ],
      "text/latex": [
       "\\begin{description*}\n",
       "\\item[0\\textbackslash{}\\%] 2e-04\n",
       "\\item[25\\textbackslash{}\\%] 0.103275\n",
       "\\item[50\\textbackslash{}\\%] 0.14235\n",
       "\\item[75\\textbackslash{}\\%] 0.164975\n",
       "\\item[100\\textbackslash{}\\%] 0.2421\n",
       "\\end{description*}\n"
      ],
      "text/markdown": [
       "0%\n",
       ":   2e-0425%\n",
       ":   0.10327550%\n",
       ":   0.1423575%\n",
       ":   0.164975100%\n",
       ":   0.2421\n",
       "\n"
      ],
      "text/plain": [
       "      0%      25%      50%      75%     100% \n",
       "0.000200 0.103275 0.142350 0.164975 0.242100 "
      ]
     },
     "metadata": {},
     "output_type": "display_data"
    },
    {
     "name": "stdout",
     "output_type": "stream",
     "text": [
      "0.1013"
     ]
    }
   ],
   "source": [
    "# load observed summary stats\n",
    "obs <- read.csv(\"mosquito-observed.csv\", head=T)\n",
    "\n",
    "# check if simulated retained summary stats contain the observed one\n",
    "quantile(sims$Fst); cat(obs$Fst)\n",
    "quantile(sims$segsites1); cat(obs$segsites1)\n",
    "quantile(sims$segsites2); cat(obs$segsites2)\n"
   ]
  },
  {
   "cell_type": "code",
   "execution_count": 8,
   "id": "b84b1655",
   "metadata": {},
   "outputs": [],
   "source": [
    "# merge obs with retained sims to scale them\n",
    "sumstats <- scale(rbind(obs[c(1,3,4)],sims[,c(5,7,8)]))\n",
    "head(sumstats)"
   ]
  },
  {
   "cell_type": "code",
   "execution_count": 11,
   "id": "73da5c7e",
   "metadata": {},
   "outputs": [
    {
     "name": "stderr",
     "output_type": "stream",
     "text": [
      "Loading required package: abc.data\n",
      "\n",
      "Loading required package: nnet\n",
      "\n",
      "Loading required package: quantreg\n",
      "\n",
      "Loading required package: SparseM\n",
      "\n",
      "\n",
      "Attaching package: ‘SparseM’\n",
      "\n",
      "\n",
      "The following object is masked from ‘package:base’:\n",
      "\n",
      "    backsolve\n",
      "\n",
      "\n",
      "Loading required package: MASS\n",
      "\n",
      "Loading required package: locfit\n",
      "\n",
      "locfit 1.5-9.9 \t 2024-03-01\n",
      "\n"
     ]
    }
   ],
   "source": [
    "# load ABC library\n",
    "library(abc)"
   ]
  },
  {
   "cell_type": "code",
   "execution_count": 12,
   "id": "cad2a0bd",
   "metadata": {},
   "outputs": [
    {
     "name": "stderr",
     "output_type": "stream",
     "text": [
      "Warning message in abc(target = sumstats[1, ], param = sims$T_split, sumstat = sumstats[-1, :\n",
      "“No parameter names are given, using P1, P2, ...”\n"
     ]
    }
   ],
   "source": [
    "est <- abc(target=sumstats[1,], param=sims$T_split, sumstat=sumstats[-1,], tol=0.05, method=\"rejection\")"
   ]
  },
  {
   "cell_type": "code",
   "execution_count": 13,
   "id": "be9dbb42",
   "metadata": {},
   "outputs": [
    {
     "data": {
      "image/png": "[encoded data removed]",
      "text/plain": [
       "Plot with title “Histogram of est$dist”"
      ]
     },
     "metadata": {
      "image/png": {
       "height": 420,
       "width": 420
      }
     },
     "output_type": "display_data"
    }
   ],
   "source": [
    "# check distances in the acceptance region\n",
    "hist(est$dist)\n",
    "abline(v=max(est$dist[which(est$region)]), lty=2)"
   ]
  },
  {
   "cell_type": "code",
   "execution_count": 17,
   "id": "e85d03fc",
   "metadata": {},
   "outputs": [],
   "source": [
    "# posterior distribution\n",
    "x11()\n",
    "par(mfrow=c(2,1))\n",
    "hist(est$unadj.values, freq=FALSE, xlim=range(sims$T_split), col=rgb(0,0,1,1/4), main=\"Posterior probability\", xlab=\"Split time\")\n",
    "\n",
    "# MAP\n",
    "map <- mean(est$unadj.values)\n",
    "abline(v=map, lty=2)\n",
    "\n",
    "# confidence intervals\n",
    "hpd <- quantile(x=est$unadj.values, probs=c(0.025,0.975))\n",
    "abline(v=hpd, lty=3)\n",
    "\n",
    "# prior\n",
    "hist(sims$T_split, freq=FALSE, xlim=range(sims$T_split), col=rgb(1,0,0,1/4))\n"
   ]
  },
  {
   "cell_type": "code",
   "execution_count": 15,
   "id": "589da580",
   "metadata": {},
   "outputs": [
    {
     "ename": "ERROR",
     "evalue": "Error in int_abline(a = a, b = b, h = h, v = v, untf = untf, ...): plot.new has not been called yet\n",
     "output_type": "error",
     "traceback": [
      "Error in int_abline(a = a, b = b, h = h, v = v, untf = untf, ...): plot.new has not been called yet\nTraceback:\n",
      "1. abline(v = map, lty = 2)",
      "2. int_abline(a = a, b = b, h = h, v = v, untf = untf, ...)"
     ]
    }
   ],
   "source": []
  },
  {
   "cell_type": "code",
   "execution_count": null,
   "id": "0e2fb718",
   "metadata": {},
   "outputs": [],
   "source": []
  }
 ],
 "metadata": {
  "kernelspec": {
   "display_name": "R",
   "language": "R",
   "name": "ir"
  },
  "language_info": {
   "codemirror_mode": "r",
   "file_extension": ".r",
   "mimetype": "text/x-r-source",
   "name": "R",
   "pygments_lexer": "r",
   "version": "4.1.2"
  }
 },
 "nbformat": 4,
 "nbformat_minor": 5
}

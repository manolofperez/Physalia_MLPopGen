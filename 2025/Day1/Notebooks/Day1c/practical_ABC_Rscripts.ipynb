{
 "cells": [
  {
   "cell_type": "markdown",
   "id": "d72dd9d1",
   "metadata": {},
   "source": [
    "## Task 1: inspect prior distributions"
   ]
  },
  {
   "cell_type": "code",
   "execution_count": null,
   "id": "272eccac",
   "metadata": {},
   "outputs": [],
   "source": [
    "# COLAB users: load simulations and data\n",
    "system(\"ls\", TRUE)\n",
    "\n",
    "system(\"wget https://raw.githubusercontent.com/manolofperez/Physalia_MLPopGen/refs/heads/main/2025/Day1/Notebooks/Day1c/mosquito-task1.csv\", TRUE)\n",
    "\n",
    "system(\"wget https://raw.githubusercontent.com/manolofperez/Physalia_MLPopGen/refs/heads/main/2025/Day1/Notebooks/Day1c/mosquito-task2.csv\", TRUE)\n",
    "\n",
    "system(\"wget https://raw.githubusercontent.com/manolofperez/Physalia_MLPopGen/refs/heads/main/2025/Day1/Notebooks/Day1c/mosquito-observed.csv\", TRUE)\n",
    "\n",
    "# Then you just need to load it, as the files will be in the root directory of your Colab."
   ]
  },
  {
   "cell_type": "code",
   "execution_count": null,
   "id": "1f8497dc",
   "metadata": {},
   "outputs": [],
   "source": [
    "sims <- read.csv(\"mosquito-task1.csv\", head=T)\n",
    "\n",
    "# check prior distributions\n",
    "x11()\n",
    "par(mfrow=c(2,2))\n",
    "hist(sims$N1)\n",
    "hist(sims$N2)\n",
    "hist(sims$T_split)\n",
    "hist(sims$mig)\n"
   ]
  },
  {
   "cell_type": "markdown",
   "id": "24eaffd8",
   "metadata": {},
   "source": [
    "## Task 2: perform ABC"
   ]
  },
  {
   "cell_type": "code",
   "execution_count": null,
   "id": "c7095577",
   "metadata": {},
   "outputs": [],
   "source": [
    "sims <- read.csv(\"mosquito-task2.csv\", head=T)\n",
    "\n",
    "# check prior distributions\n",
    "x11()\n",
    "par(mfrow=c(2,2))\n",
    "hist(sims$N1)\n",
    "hist(sims$N2)\n",
    "hist(sims$T_split)\n",
    "hist(sims$mig)\n"
   ]
  },
  {
   "cell_type": "code",
   "execution_count": null,
   "id": "6e5f60e5",
   "metadata": {},
   "outputs": [],
   "source": [
    "# remove simulations with NaN for some summary stats!\n",
    "\n",
    "# find useful summary stats which correlate with T_split\n",
    "cor(sims$Fst, sims$T_split)\n",
    "cor(sims$dxy, sims$T_split)\n",
    "cor(sims$segsites1, sims$T_split)\n",
    "cor(sims$segsites2, sims$T_split)\n",
    "cor(sims$pi1, sims$T_split)\n",
    "cor(sims$pi2, sims$T_split)\n",
    "cor(sims$tajima1, sims$T_split)\n",
    "cor(sims$tajima2, sims$T_split)\n"
   ]
  },
  {
   "cell_type": "code",
   "execution_count": null,
   "id": "ce20e0c2",
   "metadata": {},
   "outputs": [],
   "source": [
    "# load observed summary stats\n",
    "obs <- read.csv(\"mosquito-observed.csv\", head=T)\n",
    "\n",
    "# check if simulated retained summary stats contain the observed one\n",
    "quantile(sims$Fst); cat(obs$Fst)\n",
    "quantile(sims$segsites1); cat(obs$segsites1)\n",
    "quantile(sims$segsites2); cat(obs$segsites2)\n"
   ]
  },
  {
   "cell_type": "code",
   "execution_count": null,
   "id": "b84b1655",
   "metadata": {},
   "outputs": [],
   "source": [
    "# merge obs with retained sims to scale them\n",
    "sumstats <- scale(rbind(obs[c(1,3,4)],sims[,c(5,7,8)]))\n",
    "head(sumstats)"
   ]
  },
  {
   "cell_type": "code",
   "execution_count": null,
   "id": "73da5c7e",
   "metadata": {},
   "outputs": [],
   "source": [
    "# load ABC library\n",
    "library(abc)"
   ]
  },
  {
   "cell_type": "code",
   "execution_count": null,
   "id": "cad2a0bd",
   "metadata": {},
   "outputs": [],
   "source": [
    "est <- abc(target=sumstats[1,], param=sims$T_split, sumstat=sumstats[-1,], tol=0.05, method=\"rejection\")"
   ]
  },
  {
   "cell_type": "code",
   "execution_count": null,
   "id": "be9dbb42",
   "metadata": {},
   "outputs": [],
   "source": [
    "# check distances in the acceptance region\n",
    "hist(est$dist)\n",
    "abline(v=max(est$dist[which(est$region)]), lty=2)"
   ]
  },
  {
   "cell_type": "code",
   "execution_count": null,
   "id": "e85d03fc",
   "metadata": {},
   "outputs": [],
   "source": [
    "# posterior distribution\n",
    "x11()\n",
    "par(mfrow=c(2,1))\n",
    "hist(est$unadj.values, freq=FALSE, xlim=range(sims$T_split), col=rgb(0,0,1,1/4), main=\"Posterior probability\", xlab=\"Split time\")\n",
    "\n",
    "# MAP\n",
    "map <- mean(est$unadj.values)\n",
    "abline(v=map, lty=2)\n",
    "\n",
    "# confidence intervals\n",
    "hpd <- quantile(x=est$unadj.values, probs=c(0.025,0.975))\n",
    "abline(v=hpd, lty=3)\n",
    "\n",
    "# prior\n",
    "hist(sims$T_split, freq=FALSE, xlim=range(sims$T_split), col=rgb(1,0,0,1/4))\n"
   ]
  },
  {
   "cell_type": "code",
   "execution_count": null,
   "id": "589da580",
   "metadata": {},
   "outputs": [],
   "source": []
  },
  {
   "cell_type": "code",
   "execution_count": null,
   "id": "0e2fb718",
   "metadata": {},
   "outputs": [],
   "source": []
  }
 ],
 "metadata": {
  "kernelspec": {
   "display_name": "R",
   "language": "R",
   "name": "ir"
  },
  "language_info": {
   "codemirror_mode": "r",
   "file_extension": ".r",
   "mimetype": "text/x-r-source",
   "name": "R",
   "pygments_lexer": "r",
   "version": "4.1.2"
  }
 },
 "nbformat": 4,
 "nbformat_minor": 5
}
